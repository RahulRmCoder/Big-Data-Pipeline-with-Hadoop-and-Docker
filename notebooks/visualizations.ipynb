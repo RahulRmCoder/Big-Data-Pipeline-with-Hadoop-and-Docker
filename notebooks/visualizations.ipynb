{
 "cells": [
  {
   "cell_type": "markdown",
   "metadata": {},
   "source": [
    "# Big Data Pipeline Visualization\n",
    "    This notebook visualizes the results of our Hadoop and Hive big data pipeline.\",\n",
    "    We'll create visualizations for:\n",
    "    1. Web traffic patterns\n",
    "    2. Social media engagement\n",
    "    3. Sensor data analysis\n",
    "    4. Correlations between different data sources"
   ]
  },
  {
   "cell_type": "code",
   "execution_count": 2,
   "metadata": {},
   "outputs": [],
   "source": [
    "# Import necessary libraries\n",
    "import pandas as pd\n",
    "import matplotlib.pyplot as plt\n",
    "import seaborn as sns\n",
    "import numpy as np\n",
    "import os\n",
    "from datetime import datetime\n",
    "import plotly.express as px\n",
    "import plotly.graph_objects as go\n",
    "from plotly.subplots import make_subplots\n",
    "\n",
    "# Set plot style\n",
    "plt.style.use('ggplot')\n",
    "sns.set(style=\"whitegrid\")\n",
    "\n",
    "# Create directory for saving visualizations\n",
    "os.makedirs('../visualization', exist_ok=True)"
   ]
  },
  {
   "cell_type": "code",
   "execution_count": 3,
   "metadata": {},
   "outputs": [
    {
     "name": "stdout",
     "output_type": "stream",
     "text": [
      "\n",
      "Web Traffic by Endpoint Dataset - Shape: (64, 6)\n"
     ]
    },
    {
     "data": {
      "text/html": [
       "<div>\n",
       "<style scoped>\n",
       "    .dataframe tbody tr th:only-of-type {\n",
       "        vertical-align: middle;\n",
       "    }\n",
       "\n",
       "    .dataframe tbody tr th {\n",
       "        vertical-align: top;\n",
       "    }\n",
       "\n",
       "    .dataframe thead th {\n",
       "        text-align: right;\n",
       "    }\n",
       "</style>\n",
       "<table border=\"1\" class=\"dataframe\">\n",
       "  <thead>\n",
       "    <tr style=\"text-align: right;\">\n",
       "      <th></th>\n",
       "      <th>date</th>\n",
       "      <th>endpoint</th>\n",
       "      <th>total_requests</th>\n",
       "      <th>error_count</th>\n",
       "      <th>avg_response_time</th>\n",
       "      <th>unique_visitors</th>\n",
       "    </tr>\n",
       "  </thead>\n",
       "  <tbody>\n",
       "    <tr>\n",
       "      <th>0</th>\n",
       "      <td>2025-03-02</td>\n",
       "      <td>/about</td>\n",
       "      <td>21</td>\n",
       "      <td>14</td>\n",
       "      <td>1.385905</td>\n",
       "      <td>21</td>\n",
       "    </tr>\n",
       "    <tr>\n",
       "      <th>1</th>\n",
       "      <td>2025-03-02</td>\n",
       "      <td>/blog</td>\n",
       "      <td>20</td>\n",
       "      <td>12</td>\n",
       "      <td>0.982950</td>\n",
       "      <td>20</td>\n",
       "    </tr>\n",
       "  </tbody>\n",
       "</table>\n",
       "</div>"
      ],
      "text/plain": [
       "        date endpoint  total_requests  error_count  avg_response_time  \\\n",
       "0 2025-03-02   /about              21           14           1.385905   \n",
       "1 2025-03-02    /blog              20           12           0.982950   \n",
       "\n",
       "   unique_visitors  \n",
       "0               21  \n",
       "1               20  "
      ]
     },
     "metadata": {},
     "output_type": "display_data"
    },
    {
     "name": "stdout",
     "output_type": "stream",
     "text": [
      "\n",
      "Web Traffic by Hour Dataset - Shape: (169, 5)\n"
     ]
    },
    {
     "data": {
      "text/html": [
       "<div>\n",
       "<style scoped>\n",
       "    .dataframe tbody tr th:only-of-type {\n",
       "        vertical-align: middle;\n",
       "    }\n",
       "\n",
       "    .dataframe tbody tr th {\n",
       "        vertical-align: top;\n",
       "    }\n",
       "\n",
       "    .dataframe thead th {\n",
       "        text-align: right;\n",
       "    }\n",
       "</style>\n",
       "<table border=\"1\" class=\"dataframe\">\n",
       "  <thead>\n",
       "    <tr style=\"text-align: right;\">\n",
       "      <th></th>\n",
       "      <th>date</th>\n",
       "      <th>hour</th>\n",
       "      <th>total_requests</th>\n",
       "      <th>error_count</th>\n",
       "      <th>avg_response_time</th>\n",
       "    </tr>\n",
       "  </thead>\n",
       "  <tbody>\n",
       "    <tr>\n",
       "      <th>0</th>\n",
       "      <td>2025-03-02</td>\n",
       "      <td>11</td>\n",
       "      <td>5</td>\n",
       "      <td>3</td>\n",
       "      <td>0.778000</td>\n",
       "    </tr>\n",
       "    <tr>\n",
       "      <th>1</th>\n",
       "      <td>2025-03-02</td>\n",
       "      <td>12</td>\n",
       "      <td>14</td>\n",
       "      <td>7</td>\n",
       "      <td>0.892714</td>\n",
       "    </tr>\n",
       "  </tbody>\n",
       "</table>\n",
       "</div>"
      ],
      "text/plain": [
       "        date  hour  total_requests  error_count  avg_response_time\n",
       "0 2025-03-02    11               5            3           0.778000\n",
       "1 2025-03-02    12              14            7           0.892714"
      ]
     },
     "metadata": {},
     "output_type": "display_data"
    },
    {
     "name": "stdout",
     "output_type": "stream",
     "text": [
      "\n",
      "Social Engagement Dataset - Shape: (128, 9)\n"
     ]
    },
    {
     "data": {
      "text/html": [
       "<div>\n",
       "<style scoped>\n",
       "    .dataframe tbody tr th:only-of-type {\n",
       "        vertical-align: middle;\n",
       "    }\n",
       "\n",
       "    .dataframe tbody tr th {\n",
       "        vertical-align: top;\n",
       "    }\n",
       "\n",
       "    .dataframe thead th {\n",
       "        text-align: right;\n",
       "    }\n",
       "</style>\n",
       "<table border=\"1\" class=\"dataframe\">\n",
       "  <thead>\n",
       "    <tr style=\"text-align: right;\">\n",
       "      <th></th>\n",
       "      <th>date</th>\n",
       "      <th>platform</th>\n",
       "      <th>category</th>\n",
       "      <th>post_count</th>\n",
       "      <th>total_likes</th>\n",
       "      <th>total_shares</th>\n",
       "      <th>total_comments</th>\n",
       "      <th>avg_engagement</th>\n",
       "      <th>avg_sentiment</th>\n",
       "    </tr>\n",
       "  </thead>\n",
       "  <tbody>\n",
       "    <tr>\n",
       "      <th>0</th>\n",
       "      <td>2025-03-02</td>\n",
       "      <td>facebook</td>\n",
       "      <td>general</td>\n",
       "      <td>4</td>\n",
       "      <td>1460</td>\n",
       "      <td>463</td>\n",
       "      <td>94</td>\n",
       "      <td>667.0</td>\n",
       "      <td>0.0</td>\n",
       "    </tr>\n",
       "    <tr>\n",
       "      <th>1</th>\n",
       "      <td>2025-03-02</td>\n",
       "      <td>facebook</td>\n",
       "      <td>product</td>\n",
       "      <td>4</td>\n",
       "      <td>814</td>\n",
       "      <td>392</td>\n",
       "      <td>62</td>\n",
       "      <td>446.0</td>\n",
       "      <td>0.0</td>\n",
       "    </tr>\n",
       "  </tbody>\n",
       "</table>\n",
       "</div>"
      ],
      "text/plain": [
       "        date  platform category  post_count  total_likes  total_shares  \\\n",
       "0 2025-03-02  facebook  general           4         1460           463   \n",
       "1 2025-03-02  facebook  product           4          814           392   \n",
       "\n",
       "   total_comments  avg_engagement  avg_sentiment  \n",
       "0              94           667.0            0.0  \n",
       "1              62           446.0            0.0  "
      ]
     },
     "metadata": {},
     "output_type": "display_data"
    },
    {
     "name": "stdout",
     "output_type": "stream",
     "text": [
      "\n",
      "Sensor Readings Dataset - Shape: (200, 9)\n"
     ]
    },
    {
     "data": {
      "text/html": [
       "<div>\n",
       "<style scoped>\n",
       "    .dataframe tbody tr th:only-of-type {\n",
       "        vertical-align: middle;\n",
       "    }\n",
       "\n",
       "    .dataframe tbody tr th {\n",
       "        vertical-align: top;\n",
       "    }\n",
       "\n",
       "    .dataframe thead th {\n",
       "        text-align: right;\n",
       "    }\n",
       "</style>\n",
       "<table border=\"1\" class=\"dataframe\">\n",
       "  <thead>\n",
       "    <tr style=\"text-align: right;\">\n",
       "      <th></th>\n",
       "      <th>date</th>\n",
       "      <th>sensor_type</th>\n",
       "      <th>location</th>\n",
       "      <th>reading_count</th>\n",
       "      <th>avg_value</th>\n",
       "      <th>min_value</th>\n",
       "      <th>max_value</th>\n",
       "      <th>active_readings</th>\n",
       "      <th>error_readings</th>\n",
       "    </tr>\n",
       "  </thead>\n",
       "  <tbody>\n",
       "    <tr>\n",
       "      <th>0</th>\n",
       "      <td>2025-03-02</td>\n",
       "      <td>co2</td>\n",
       "      <td>basement</td>\n",
       "      <td>15</td>\n",
       "      <td>788.800000</td>\n",
       "      <td>462.0</td>\n",
       "      <td>1193.0</td>\n",
       "      <td>14</td>\n",
       "      <td>1</td>\n",
       "    </tr>\n",
       "    <tr>\n",
       "      <th>1</th>\n",
       "      <td>2025-03-02</td>\n",
       "      <td>co2</td>\n",
       "      <td>outside</td>\n",
       "      <td>6</td>\n",
       "      <td>814.666667</td>\n",
       "      <td>542.0</td>\n",
       "      <td>1111.0</td>\n",
       "      <td>6</td>\n",
       "      <td>0</td>\n",
       "    </tr>\n",
       "  </tbody>\n",
       "</table>\n",
       "</div>"
      ],
      "text/plain": [
       "        date sensor_type  location  reading_count   avg_value  min_value  \\\n",
       "0 2025-03-02         co2  basement             15  788.800000      462.0   \n",
       "1 2025-03-02         co2   outside              6  814.666667      542.0   \n",
       "\n",
       "   max_value  active_readings  error_readings  \n",
       "0     1193.0               14               1  \n",
       "1     1111.0                6               0  "
      ]
     },
     "metadata": {},
     "output_type": "display_data"
    },
    {
     "name": "stdout",
     "output_type": "stream",
     "text": [
      "\n",
      "Correlation Data Dataset - Shape: (8, 10)\n"
     ]
    },
    {
     "data": {
      "text/html": [
       "<div>\n",
       "<style scoped>\n",
       "    .dataframe tbody tr th:only-of-type {\n",
       "        vertical-align: middle;\n",
       "    }\n",
       "\n",
       "    .dataframe tbody tr th {\n",
       "        vertical-align: top;\n",
       "    }\n",
       "\n",
       "    .dataframe thead th {\n",
       "        text-align: right;\n",
       "    }\n",
       "</style>\n",
       "<table border=\"1\" class=\"dataframe\">\n",
       "  <thead>\n",
       "    <tr style=\"text-align: right;\">\n",
       "      <th></th>\n",
       "      <th>date</th>\n",
       "      <th>total_requests</th>\n",
       "      <th>error_count</th>\n",
       "      <th>avg_response_time</th>\n",
       "      <th>post_count</th>\n",
       "      <th>total_likes</th>\n",
       "      <th>total_shares</th>\n",
       "      <th>total_comments</th>\n",
       "      <th>avg_engagement</th>\n",
       "      <th>avg_sentiment</th>\n",
       "    </tr>\n",
       "  </thead>\n",
       "  <tbody>\n",
       "    <tr>\n",
       "      <th>0</th>\n",
       "      <td>2025-03-02</td>\n",
       "      <td>136</td>\n",
       "      <td>86</td>\n",
       "      <td>1.081610</td>\n",
       "      <td>69</td>\n",
       "      <td>29953</td>\n",
       "      <td>7176</td>\n",
       "      <td>1636</td>\n",
       "      <td>713.231884</td>\n",
       "      <td>0.043478</td>\n",
       "    </tr>\n",
       "    <tr>\n",
       "      <th>1</th>\n",
       "      <td>2025-03-03</td>\n",
       "      <td>276</td>\n",
       "      <td>175</td>\n",
       "      <td>1.033986</td>\n",
       "      <td>118</td>\n",
       "      <td>56802</td>\n",
       "      <td>12869</td>\n",
       "      <td>2930</td>\n",
       "      <td>773.983051</td>\n",
       "      <td>-0.025424</td>\n",
       "    </tr>\n",
       "  </tbody>\n",
       "</table>\n",
       "</div>"
      ],
      "text/plain": [
       "        date  total_requests  error_count  avg_response_time  post_count  \\\n",
       "0 2025-03-02             136           86           1.081610          69   \n",
       "1 2025-03-03             276          175           1.033986         118   \n",
       "\n",
       "   total_likes  total_shares  total_comments  avg_engagement  avg_sentiment  \n",
       "0        29953          7176            1636      713.231884       0.043478  \n",
       "1        56802         12869            2930      773.983051      -0.025424  "
      ]
     },
     "metadata": {},
     "output_type": "display_data"
    }
   ],
   "source": [
    "# Define paths to the exported data\n",
    "exports_dir = '../data/exports/'\n",
    "web_traffic_path = os.path.join(exports_dir, 'web_traffic_by_endpoint')\n",
    "web_hourly_path = os.path.join(exports_dir, 'web_traffic_hourly')\n",
    "social_path = os.path.join(exports_dir, 'social_engagement')\n",
    "sensor_path = os.path.join(exports_dir, 'sensor_readings')\n",
    "correlation_path = os.path.join(exports_dir, 'correlation_data')\n",
    "\n",
    "# Function to load data from CSV files\n",
    "def load_data(path, filename='000000_0'):\n",
    "    # Check if the file exists\n",
    "    full_path = os.path.join(path, filename)\n",
    "    if not os.path.exists(full_path):\n",
    "        print(f\"Warning: File not found at {full_path}\")\n",
    "        # Try to find any file in the directory\n",
    "        files = os.listdir(path)\n",
    "        if files:\n",
    "            full_path = os.path.join(path, files[0])\n",
    "            print(f\"Using file: {full_path}\")\n",
    "        else:\n",
    "            print(f\"No files found in {path}\")\n",
    "            return None\n",
    "    \n",
    "    # Load the data\n",
    "    try:\n",
    "        # Determine column names based on the path\n",
    "        if 'web_traffic_by_endpoint' in path:\n",
    "            cols = ['date', 'endpoint', 'total_requests', 'error_count', 'avg_response_time', 'unique_visitors']\n",
    "        elif 'web_traffic_hourly' in path:\n",
    "            cols = ['date', 'hour', 'total_requests', 'error_count', 'avg_response_time']\n",
    "        elif 'social_engagement' in path:\n",
    "            cols = ['date', 'platform', 'category', 'post_count', 'total_likes', 'total_shares', \n",
    "                   'total_comments', 'avg_engagement', 'avg_sentiment']\n",
    "        elif 'sensor_readings' in path:\n",
    "            cols = ['date', 'sensor_type', 'location', 'reading_count', 'avg_value', 'min_value', \n",
    "                   'max_value', 'active_readings', 'error_readings']\n",
    "        elif 'correlation_data' in path:\n",
    "            cols = ['date', 'total_requests', 'error_count', 'avg_response_time', 'post_count', \n",
    "                   'total_likes', 'total_shares', 'total_comments', 'avg_engagement', 'avg_sentiment']\n",
    "        else:\n",
    "            cols = None\n",
    "            \n",
    "        # Read the CSV file\n",
    "        df = pd.read_csv(full_path, header=None, names=cols)\n",
    "        \n",
    "        # Convert date columns\n",
    "        if 'date' in df.columns:\n",
    "            df['date'] = pd.to_datetime(df['date'])\n",
    "            \n",
    "        return df\n",
    "    \n",
    "    except Exception as e:\n",
    "        print(f\"Error loading data: {e}\")\n",
    "        return None\n",
    "\n",
    "# Load all datasets\n",
    "web_traffic_df = load_data(web_traffic_path)\n",
    "web_hourly_df = load_data(web_hourly_path)\n",
    "social_df = load_data(social_path)\n",
    "sensor_df = load_data(sensor_path)\n",
    "correlation_df = load_data(correlation_path)\n",
    "\n",
    "# Display data info\n",
    "for name, df in [\n",
    "    ('Web Traffic by Endpoint', web_traffic_df),\n",
    "    ('Web Traffic by Hour', web_hourly_df),\n",
    "    ('Social Engagement', social_df),\n",
    "    ('Sensor Readings', sensor_df),\n",
    "    ('Correlation Data', correlation_df)\n",
    "]:\n",
    "    if df is not None:\n",
    "        print(f\"\\n{name} Dataset - Shape: {df.shape}\")\n",
    "        display(df.head(2))\n",
    "    else:\n",
    "        print(f\"\\n{name} Dataset - Not loaded\")"
   ]
  },
  {
   "cell_type": "code",
   "execution_count": 5,
   "metadata": {},
   "outputs": [
    {
     "data": {
      "image/png": "[encoded data removed]",
      "text/plain": [
       "<Figure size 1200x600 with 1 Axes>"
      ]
     },
     "metadata": {},
     "output_type": "display_data"
    },
    {
     "data": {
      "image/png": "[encoded data removed]",
      "text/plain": [
       "<Figure size 1200x600 with 1 Axes>"
      ]
     },
     "metadata": {},
     "output_type": "display_data"
    },
    {
     "data": {
      "application/vnd.plotly.v1+json": {
       "config": {
        "plotlyServerURL": "https://plot.ly"
       },
       "data": [
        {
         "hovertemplate": "datetime=%{x}<br>total_requests=%{y}<extra></extra>",
         "legendgroup": "",
         "line": {
          "color": "#636efa",
          "dash": "solid"
         },
         "marker": {
          "symbol": "circle"
         },
         "mode": "lines",
         "name": "",
         "orientation": "v",
         "showlegend": false,
         "type": "scatter",
         "x": [
          "2025-03-02T11:00:00.000000000",
          "2025-03-02T12:00:00.000000000",
          "2025-03-02T13:00:00.000000000",
          "2025-03-02T14:00:00.000000000",
          "2025-03-02T15:00:00.000000000",
          "2025-03-02T16:00:00.000000000",
          "2025-03-02T17:00:00.000000000",
          "2025-03-02T18:00:00.000000000",
          "2025-03-02T19:00:00.000000000",
          "2025-03-02T20:00:00.000000000",
          "2025-03-02T21:00:00.000000000",
          "2025-03-02T22:00:00.000000000",
          "2025-03-02T23:00:00.000000000",
          "2025-03-03T00:00:00.000000000",
          "2025-03-03T01:00:00.000000000",
          "2025-03-03T02:00:00.000000000",
          "2025-03-03T03:00:00.000000000",
          "2025-03-03T04:00:00.000000000",
          "2025-03-03T05:00:00.000000000",
          "2025-03-03T06:00:00.000000000",
          "2025-03-03T07:00:00.000000000",
          "2025-03-03T08:00:00.000000000",
          "2025-03-03T09:00:00.000000000",
          "2025-03-03T10:00:00.000000000",
          "2025-03-03T11:00:00.000000000",
          "2025-03-03T12:00:00.000000000",
          "2025-03-03T13:00:00.000000000",
          "2025-03-03T14:00:00.000000000",
          "2025-03-03T15:00:00.000000000",
          "2025-03-03T16:00:00.000000000",
          "2025-03-03T17:00:00.000000000",
          "2025-03-03T18:00:00.000000000",
          "2025-03-03T19:00:00.000000000",
          "2025-03-03T20:00:00.000000000",
          "2025-03-03T21:00:00.000000000",
          "2025-03-03T22:00:00.000000000",
          "2025-03-03T23:00:00.000000000",
          "2025-03-04T00:00:00.000000000",
          "2025-03-04T01:00:00.000000000",
          "2025-03-04T02:00:00.000000000",
          "2025-03-04T03:00:00.000000000",
          "2025-03-04T04:00:00.000000000",
          "2025-03-04T05:00:00.000000000",
          "2025-03-04T06:00:00.000000000",
          "2025-03-04T07:00:00.000000000",
          "2025-03-04T08:00:00.000000000",
          "2025-03-04T09:00:00.000000000",
          "2025-03-04T10:00:00.000000000",
          "2025-03-04T11:00:00.000000000",
          "2025-03-04T12:00:00.000000000",
          "2025-03-04T13:00:00.000000000",
          "2025-03-04T14:00:00.000000000",
          "2025-03-04T15:00:00.000000000",
          "2025-03-04T16:00:00.000000000",
          "2025-03-04T17:00:00.000000000",
          "2025-03-04T18:00:00.000000000",
          "2025-03-04T19:00:00.000000000",
          "2025-03-04T20:00:00.000000000",
          "2025-03-04T21:00:00.000000000",
          "2025-03-04T22:00:00.000000000",
          "2025-03-04T23:00:00.000000000",
          "2025-03-05T00:00:00.000000000",
          "2025-03-05T01:00:00.000000000",
          "2025-03-05T02:00:00.000000000",
          "2025-03-05T03:00:00.000000000",
          "2025-03-05T04:00:00.000000000",
          "2025-03-05T05:00:00.000000000",
          "2025-03-05T06:00:00.000000000",
          "2025-03-05T07:00:00.000000000",
          "2025-03-05T08:00:00.000000000",
          "2025-03-05T09:00:00.000000000",
          "2025-03-05T10:00:00.000000000",
          "2025-03-05T11:00:00.000000000",
          "2025-03-05T12:00:00.000000000",
          "2025-03-05T13:00:00.000000000",
          "2025-03-05T14:00:00.000000000",
          "2025-03-05T15:00:00.000000000",
          "2025-03-05T16:00:00.000000000",
          "2025-03-05T17:00:00.000000000",
          "2025-03-05T18:00:00.000000000",
          "2025-03-05T19:00:00.000000000",
          "2025-03-05T20:00:00.000000000",
          "2025-03-05T21:00:00.000000000",
          "2025-03-05T22:00:00.000000000",
          "2025-03-05T23:00:00.000000000",
          "2025-03-06T00:00:00.000000000",
          "2025-03-06T01:00:00.000000000",
          "2025-03-06T02:00:00.000000000",
          "2025-03-06T03:00:00.000000000",
          "2025-03-06T04:00:00.000000000",
          "2025-03-06T05:00:00.000000000",
          "2025-03-06T06:00:00.000000000",
          "2025-03-06T07:00:00.000000000",
          "2025-03-06T08:00:00.000000000",
          "2025-03-06T09:00:00.000000000",
          "2025-03-06T10:00:00.000000000",
          "2025-03-06T11:00:00.000000000",
          "2025-03-06T12:00:00.000000000",
          "2025-03-06T13:00:00.000000000",
          "2025-03-06T14:00:00.000000000",
          "2025-03-06T15:00:00.000000000",
          "2025-03-06T16:00:00.000000000",
          "2025-03-06T17:00:00.000000000",
          "2025-03-06T18:00:00.000000000",
          "2025-03-06T19:00:00.000000000",
          "2025-03-06T20:00:00.000000000",
          "2025-03-06T21:00:00.000000000",
          "2025-03-06T22:00:00.000000000",
          "2025-03-06T23:00:00.000000000",
          "2025-03-07T00:00:00.000000000",
          "2025-03-07T01:00:00.000000000",
          "2025-03-07T02:00:00.000000000",
          "2025-03-07T03:00:00.000000000",
          "2025-03-07T04:00:00.000000000",
          "2025-03-07T05:00:00.000000000",
          "2025-03-07T06:00:00.000000000",
          "2025-03-07T07:00:00.000000000",
          "2025-03-07T08:00:00.000000000",
          "2025-03-07T09:00:00.000000000",
          "2025-03-07T10:00:00.000000000",
          "2025-03-07T11:00:00.000000000",
          "2025-03-07T12:00:00.000000000",
          "2025-03-07T13:00:00.000000000",
          "2025-03-07T14:00:00.000000000",
          "2025-03-07T15:00:00.000000000",
          "2025-03-07T16:00:00.000000000",
          "2025-03-07T17:00:00.000000000",
          "2025-03-07T18:00:00.000000000",
          "2025-03-07T19:00:00.000000000",
          "2025-03-07T20:00:00.000000000",
          "2025-03-07T21:00:00.000000000",
          "2025-03-07T22:00:00.000000000",
          "2025-03-07T23:00:00.000000000",
          "2025-03-08T00:00:00.000000000",
          "2025-03-08T01:00:00.000000000",
          "2025-03-08T02:00:00.000000000",
          "2025-03-08T03:00:00.000000000",
          "2025-03-08T04:00:00.000000000",
          "2025-03-08T05:00:00.000000000",
          "2025-03-08T06:00:00.000000000",
          "2025-03-08T07:00:00.000000000",
          "2025-03-08T08:00:00.000000000",
          "2025-03-08T09:00:00.000000000",
          "2025-03-08T10:00:00.000000000",
          "2025-03-08T11:00:00.000000000",
          "2025-03-08T12:00:00.000000000",
          "2025-03-08T13:00:00.000000000",
          "2025-03-08T14:00:00.000000000",
          "2025-03-08T15:00:00.000000000",
          "2025-03-08T16:00:00.000000000",
          "2025-03-08T17:00:00.000000000",
          "2025-03-08T18:00:00.000000000",
          "2025-03-08T19:00:00.000000000",
          "2025-03-08T20:00:00.000000000",
          "2025-03-08T21:00:00.000000000",
          "2025-03-08T22:00:00.000000000",
          "2025-03-08T23:00:00.000000000",
          "2025-03-09T00:00:00.000000000",
          "2025-03-09T01:00:00.000000000",
          "2025-03-09T02:00:00.000000000",
          "2025-03-09T03:00:00.000000000",
          "2025-03-09T04:00:00.000000000",
          "2025-03-09T05:00:00.000000000",
          "2025-03-09T06:00:00.000000000",
          "2025-03-09T07:00:00.000000000",
          "2025-03-09T08:00:00.000000000",
          "2025-03-09T09:00:00.000000000",
          "2025-03-09T10:00:00.000000000",
          "2025-03-09T11:00:00.000000000"
         ],
         "xaxis": "x",
         "y": {
          "bdata": "BQ4KDA8ICQgNCggLDREOFAkHCg0PCg0KDg8LCgsGCQgNBwcKEQwNEwgMDQYFEg4JEAwSCw0OCwsHDREIDAkICwwEBw4GCgoJEQ4KDwoPDBELEQ8LCwoNDAcJCwwLCw8NCQoKCw8RCAwOEAsOEQ0NDw0SCQoLCwoODAkRCw4IDQsJFAsFDQgMFQsJDgsLBQ8EEgwPBg0OCxgPDBEUDg8PCwkJCQoQEQYJBQ==",
          "dtype": "i1"
         },
         "yaxis": "y"
        }
       ],
       "layout": {
        "legend": {
         "tracegroupgap": 0
        },
        "template": {
         "data": {
          "bar": [
           {
            "error_x": {
             "color": "#2a3f5f"
            },
            "error_y": {
             "color": "#2a3f5f"
            },
            "marker": {
             "line": {
              "color": "white",
              "width": 0.5
             },
             "pattern": {
              "fillmode": "overlay",
              "size": 10,
              "solidity": 0.2
             }
            },
            "type": "bar"
           }
          ],
          "barpolar": [
           {
            "marker": {
             "line": {
              "color": "white",
              "width": 0.5
             },
             "pattern": {
              "fillmode": "overlay",
              "size": 10,
              "solidity": 0.2
             }
            },
            "type": "barpolar"
           }
          ],
          "carpet": [
           {
            "aaxis": {
             "endlinecolor": "#2a3f5f",
             "gridcolor": "#C8D4E3",
             "linecolor": "#C8D4E3",
             "minorgridcolor": "#C8D4E3",
             "startlinecolor": "#2a3f5f"
            },
            "baxis": {
             "endlinecolor": "#2a3f5f",
             "gridcolor": "#C8D4E3",
             "linecolor": "#C8D4E3",
             "minorgridcolor": "#C8D4E3",
             "startlinecolor": "#2a3f5f"
            },
            "type": "carpet"
           }
          ],
          "choropleth": [
           {
            "colorbar": {
             "outlinewidth": 0,
             "ticks": ""
            },
            "type": "choropleth"
           }
          ],
          "contour": [
           {
            "colorbar": {
             "outlinewidth": 0,
             "ticks": ""
            },
            "colorscale": [
             [
              0,
              "#0d0887"
             ],
             [
              0.1111111111111111,
              "#46039f"
             ],
             [
              0.2222222222222222,
              "#7201a8"
             ],
             [
              0.3333333333333333,
              "#9c179e"
             ],
             [
              0.4444444444444444,
              "#bd3786"
             ],
             [
              0.5555555555555556,
              "#d8576b"
             ],
             [
              0.6666666666666666,
              "#ed7953"
             ],
             [
              0.7777777777777778,
              "#fb9f3a"
             ],
             [
              0.8888888888888888,
              "#fdca26"
             ],
             [
              1,
              "#f0f921"
             ]
            ],
            "type": "contour"
           }
          ],
          "contourcarpet": [
           {
            "colorbar": {
             "outlinewidth": 0,
             "ticks": ""
            },
            "type": "contourcarpet"
           }
          ],
          "heatmap": [
           {
            "colorbar": {
             "outlinewidth": 0,
             "ticks": ""
            },
            "colorscale": [
             [
              0,
              "#0d0887"
             ],
             [
              0.1111111111111111,
              "#46039f"
             ],
             [
              0.2222222222222222,
              "#7201a8"
             ],
             [
              0.3333333333333333,
              "#9c179e"
             ],
             [
              0.4444444444444444,
              "#bd3786"
             ],
             [
              0.5555555555555556,
              "#d8576b"
             ],
             [
              0.6666666666666666,
              "#ed7953"
             ],
             [
              0.7777777777777778,
              "#fb9f3a"
             ],
             [
              0.8888888888888888,
              "#fdca26"
             ],
             [
              1,
              "#f0f921"
             ]
            ],
            "type": "heatmap"
           }
          ],
          "histogram": [
           {
            "marker": {
             "pattern": {
              "fillmode": "overlay",
              "size": 10,
              "solidity": 0.2
             }
            },
            "type": "histogram"
           }
          ],
          "histogram2d": [
           {
            "colorbar": {
             "outlinewidth": 0,
             "ticks": ""
            },
            "colorscale": [
             [
              0,
              "#0d0887"
             ],
             [
              0.1111111111111111,
              "#46039f"
             ],
             [
              0.2222222222222222,
              "#7201a8"
             ],
             [
              0.3333333333333333,
              "#9c179e"
             ],
             [
              0.4444444444444444,
              "#bd3786"
             ],
             [
              0.5555555555555556,
              "#d8576b"
             ],
             [
              0.6666666666666666,
              "#ed7953"
             ],
             [
              0.7777777777777778,
              "#fb9f3a"
             ],
             [
              0.8888888888888888,
              "#fdca26"
             ],
             [
              1,
              "#f0f921"
             ]
            ],
            "type": "histogram2d"
           }
          ],
          "histogram2dcontour": [
           {
            "colorbar": {
             "outlinewidth": 0,
             "ticks": ""
            },
            "colorscale": [
             [
              0,
              "#0d0887"
             ],
             [
              0.1111111111111111,
              "#46039f"
             ],
             [
              0.2222222222222222,
              "#7201a8"
             ],
             [
              0.3333333333333333,
              "#9c179e"
             ],
             [
              0.4444444444444444,
              "#bd3786"
             ],
             [
              0.5555555555555556,
              "#d8576b"
             ],
             [
              0.6666666666666666,
              "#ed7953"
             ],
             [
              0.7777777777777778,
              "#fb9f3a"
             ],
             [
              0.8888888888888888,
              "#fdca26"
             ],
             [
              1,
              "#f0f921"
             ]
            ],
            "type": "histogram2dcontour"
           }
          ],
          "mesh3d": [
           {
            "colorbar": {
             "outlinewidth": 0,
             "ticks": ""
            },
            "type": "mesh3d"
           }
          ],
          "parcoords": [
           {
            "line": {
             "colorbar": {
              "outlinewidth": 0,
              "ticks": ""
             }
            },
            "type": "parcoords"
           }
          ],
          "pie": [
           {
            "automargin": true,
            "type": "pie"
           }
          ],
          "scatter": [
           {
            "fillpattern": {
             "fillmode": "overlay",
             "size": 10,
             "solidity": 0.2
            },
            "type": "scatter"
           }
          ],
          "scatter3d": [
           {
            "line": {
             "colorbar": {
              "outlinewidth": 0,
              "ticks": ""
             }
            },
            "marker": {
             "colorbar": {
              "outlinewidth": 0,
              "ticks": ""
             }
            },
            "type": "scatter3d"
           }
          ],
          "scattercarpet": [
           {
            "marker": {
             "colorbar": {
              "outlinewidth": 0,
              "ticks": ""
             }
            },
            "type": "scattercarpet"
           }
          ],
          "scattergeo": [
           {
            "marker": {
             "colorbar": {
              "outlinewidth": 0,
              "ticks": ""
             }
            },
            "type": "scattergeo"
           }
          ],
          "scattergl": [
           {
            "marker": {
             "colorbar": {
              "outlinewidth": 0,
              "ticks": ""
             }
            },
            "type": "scattergl"
           }
          ],
          "scattermap": [
           {
            "marker": {
             "colorbar": {
              "outlinewidth": 0,
              "ticks": ""
             }
            },
            "type": "scattermap"
           }
          ],
          "scattermapbox": [
           {
            "marker": {
             "colorbar": {
              "outlinewidth": 0,
              "ticks": ""
             }
            },
            "type": "scattermapbox"
           }
          ],
          "scatterpolar": [
           {
            "marker": {
             "colorbar": {
              "outlinewidth": 0,
              "ticks": ""
             }
            },
            "type": "scatterpolar"
           }
          ],
          "scatterpolargl": [
           {
            "marker": {
             "colorbar": {
              "outlinewidth": 0,
              "ticks": ""
             }
            },
            "type": "scatterpolargl"
           }
          ],
          "scatterternary": [
           {
            "marker": {
             "colorbar": {
              "outlinewidth": 0,
              "ticks": ""
             }
            },
            "type": "scatterternary"
           }
          ],
          "surface": [
           {
            "colorbar": {
             "outlinewidth": 0,
             "ticks": ""
            },
            "colorscale": [
             [
              0,
              "#0d0887"
             ],
             [
              0.1111111111111111,
              "#46039f"
             ],
             [
              0.2222222222222222,
              "#7201a8"
             ],
             [
              0.3333333333333333,
              "#9c179e"
             ],
             [
              0.4444444444444444,
              "#bd3786"
             ],
             [
              0.5555555555555556,
              "#d8576b"
             ],
             [
              0.6666666666666666,
              "#ed7953"
             ],
             [
              0.7777777777777778,
              "#fb9f3a"
             ],
             [
              0.8888888888888888,
              "#fdca26"
             ],
             [
              1,
              "#f0f921"
             ]
            ],
            "type": "surface"
           }
          ],
          "table": [
           {
            "cells": {
             "fill": {
              "color": "#EBF0F8"
             },
             "line": {
              "color": "white"
             }
            },
            "header": {
             "fill": {
              "color": "#C8D4E3"
             },
             "line": {
              "color": "white"
             }
            },
            "type": "table"
           }
          ]
         },
         "layout": {
          "annotationdefaults": {
           "arrowcolor": "#2a3f5f",
           "arrowhead": 0,
           "arrowwidth": 1
          },
          "autotypenumbers": "strict",
          "coloraxis": {
           "colorbar": {
            "outlinewidth": 0,
            "ticks": ""
           }
          },
          "colorscale": {
           "diverging": [
            [
             0,
             "#8e0152"
            ],
            [
             0.1,
             "#c51b7d"
            ],
            [
             0.2,
             "#de77ae"
            ],
            [
             0.3,
             "#f1b6da"
            ],
            [
             0.4,
             "#fde0ef"
            ],
            [
             0.5,
             "#f7f7f7"
            ],
            [
             0.6,
             "#e6f5d0"
            ],
            [
             0.7,
             "#b8e186"
            ],
            [
             0.8,
             "#7fbc41"
            ],
            [
             0.9,
             "#4d9221"
            ],
            [
             1,
             "#276419"
            ]
           ],
           "sequential": [
            [
             0,
             "#0d0887"
            ],
            [
             0.1111111111111111,
             "#46039f"
            ],
            [
             0.2222222222222222,
             "#7201a8"
            ],
            [
             0.3333333333333333,
             "#9c179e"
            ],
            [
             0.4444444444444444,
             "#bd3786"
            ],
            [
             0.5555555555555556,
             "#d8576b"
            ],
            [
             0.6666666666666666,
             "#ed7953"
            ],
            [
             0.7777777777777778,
             "#fb9f3a"
            ],
            [
             0.8888888888888888,
             "#fdca26"
            ],
            [
             1,
             "#f0f921"
            ]
           ],
           "sequentialminus": [
            [
             0,
             "#0d0887"
            ],
            [
             0.1111111111111111,
             "#46039f"
            ],
            [
             0.2222222222222222,
             "#7201a8"
            ],
            [
             0.3333333333333333,
             "#9c179e"
            ],
            [
             0.4444444444444444,
             "#bd3786"
            ],
            [
             0.5555555555555556,
             "#d8576b"
            ],
            [
             0.6666666666666666,
             "#ed7953"
            ],
            [
             0.7777777777777778,
             "#fb9f3a"
            ],
            [
             0.8888888888888888,
             "#fdca26"
            ],
            [
             1,
             "#f0f921"
            ]
           ]
          },
          "colorway": [
           "#636efa",
           "#EF553B",
           "#00cc96",
           "#ab63fa",
           "#FFA15A",
           "#19d3f3",
           "#FF6692",
           "#B6E880",
           "#FF97FF",
           "#FECB52"
          ],
          "font": {
           "color": "#2a3f5f"
          },
          "geo": {
           "bgcolor": "white",
           "lakecolor": "white",
           "landcolor": "white",
           "showlakes": true,
           "showland": true,
           "subunitcolor": "#C8D4E3"
          },
          "hoverlabel": {
           "align": "left"
          },
          "hovermode": "closest",
          "mapbox": {
           "style": "light"
          },
          "paper_bgcolor": "white",
          "plot_bgcolor": "white",
          "polar": {
           "angularaxis": {
            "gridcolor": "#EBF0F8",
            "linecolor": "#EBF0F8",
            "ticks": ""
           },
           "bgcolor": "white",
           "radialaxis": {
            "gridcolor": "#EBF0F8",
            "linecolor": "#EBF0F8",
            "ticks": ""
           }
          },
          "scene": {
           "xaxis": {
            "backgroundcolor": "white",
            "gridcolor": "#DFE8F3",
            "gridwidth": 2,
            "linecolor": "#EBF0F8",
            "showbackground": true,
            "ticks": "",
            "zerolinecolor": "#EBF0F8"
           },
           "yaxis": {
            "backgroundcolor": "white",
            "gridcolor": "#DFE8F3",
            "gridwidth": 2,
            "linecolor": "#EBF0F8",
            "showbackground": true,
            "ticks": "",
            "zerolinecolor": "#EBF0F8"
           },
           "zaxis": {
            "backgroundcolor": "white",
            "gridcolor": "#DFE8F3",
            "gridwidth": 2,
            "linecolor": "#EBF0F8",
            "showbackground": true,
            "ticks": "",
            "zerolinecolor": "#EBF0F8"
           }
          },
          "shapedefaults": {
           "line": {
            "color": "#2a3f5f"
           }
          },
          "ternary": {
           "aaxis": {
            "gridcolor": "#DFE8F3",
            "linecolor": "#A2B1C6",
            "ticks": ""
           },
           "baxis": {
            "gridcolor": "#DFE8F3",
            "linecolor": "#A2B1C6",
            "ticks": ""
           },
           "bgcolor": "white",
           "caxis": {
            "gridcolor": "#DFE8F3",
            "linecolor": "#A2B1C6",
            "ticks": ""
           }
          },
          "title": {
           "x": 0.05
          },
          "xaxis": {
           "automargin": true,
           "gridcolor": "#EBF0F8",
           "linecolor": "#EBF0F8",
           "ticks": "",
           "title": {
            "standoff": 15
           },
           "zerolinecolor": "#EBF0F8",
           "zerolinewidth": 2
          },
          "yaxis": {
           "automargin": true,
           "gridcolor": "#EBF0F8",
           "linecolor": "#EBF0F8",
           "ticks": "",
           "title": {
            "standoff": 15
           },
           "zerolinecolor": "#EBF0F8",
           "zerolinewidth": 2
          }
         }
        },
        "title": {
         "text": "Web Traffic Over Time (Hourly)"
        },
        "xaxis": {
         "anchor": "y",
         "domain": [
          0,
          1
         ],
         "title": {
          "text": "Date and Hour"
         }
        },
        "yaxis": {
         "anchor": "x",
         "domain": [
          0,
          1
         ],
         "title": {
          "text": "Total Requests"
         }
        }
       }
      }
     },
     "metadata": {},
     "output_type": "display_data"
    }
   ],
   "source": [
    "# Check if data is loaded\n",
    "if web_traffic_df is not None:\n",
    "    # 1. Plot traffic by endpoint\n",
    "    plt.figure(figsize=(12, 6))\n",
    "    \n",
    "    # Group data by endpoint and sum requests\n",
    "    endpoint_data = web_traffic_df.groupby('endpoint')['total_requests'].sum().sort_values(ascending=False)\n",
    "    \n",
    "    # Create bar chart\n",
    "    ax = sns.barplot(x=endpoint_data.index, y=endpoint_data.values)\n",
    "    plt.title('Total Web Traffic by Endpoint', fontsize=16)\n",
    "    plt.xlabel('Endpoint', fontsize=12)\n",
    "    plt.ylabel('Total Requests', fontsize=12)\n",
    "    plt.xticks(rotation=45)\n",
    "    plt.tight_layout()\n",
    "    \n",
    "    # Save the figure\n",
    "    plt.savefig('../visualization/web_traffic_by_endpoint.png', dpi=300)\n",
    "    plt.show()\n",
    "    \n",
    "    # 2. Plot error rates by endpoint\n",
    "    plt.figure(figsize=(12, 6))\n",
    "    \n",
    "    # Calculate error rates\n",
    "    endpoint_groups = web_traffic_df.groupby('endpoint')\n",
    "    error_rates = (endpoint_groups['error_count'].sum() / endpoint_groups['total_requests'].sum() * 100).sort_values(ascending=False)\n",
    "    \n",
    "    # Create bar chart\n",
    "    ax = sns.barplot(x=error_rates.index, y=error_rates.values)\n",
    "    plt.title('Error Rate by Endpoint (%)', fontsize=16)\n",
    "    plt.xlabel('Endpoint', fontsize=12)\n",
    "    plt.ylabel('Error Rate (%)', fontsize=12)\n",
    "    plt.xticks(rotation=45)\n",
    "    plt.tight_layout()\n",
    "    \n",
    "    # Save the figure\n",
    "    plt.savefig('../visualization/error_rate_by_endpoint.png', dpi=300)\n",
    "    plt.show()\n",
    "    \n",
    "    # 3. Interactive visualization of traffic over time using Plotly\n",
    "    if web_hourly_df is not None:\n",
    "        # Group hourly data by date and hour\n",
    "        hourly_traffic = web_hourly_df.copy()\n",
    "        hourly_traffic['datetime'] = hourly_traffic['date'] + pd.to_timedelta(hourly_traffic['hour'], unit='h')\n",
    "        \n",
    "        # Create line chart\n",
    "        fig = px.line(hourly_traffic, x='datetime', y='total_requests', \n",
    "                     title='Web Traffic Over Time (Hourly)')\n",
    "        fig.update_layout(\n",
    "            xaxis_title='Date and Hour',\n",
    "            yaxis_title='Total Requests',\n",
    "            template='plotly_white'\n",
    "        )\n",
    "        \n",
    "        # Show the figure\n",
    "        fig.show()\n",
    "        \n",
    "        # Save as HTML\n",
    "        fig.write_html('../visualization/hourly_traffic.html')\n",
    "        \n",
    "else:\n",
    "    print(\"Web traffic data not available for visualization\")"
   ]
  },
  {
   "cell_type": "code",
   "execution_count": 6,
   "metadata": {},
   "outputs": [
    {
     "data": {
      "text/plain": [
       "<Figure size 1200x800 with 0 Axes>"
      ]
     },
     "metadata": {},
     "output_type": "display_data"
    },
    {
     "data": {
      "image/png": "[encoded data removed]",
      "text/plain": [
       "<Figure size 1400x1000 with 4 Axes>"
      ]
     },
     "metadata": {},
     "output_type": "display_data"
    },
    {
     "data": {
      "image/png": "[encoded data removed]",
      "text/plain": [
       "<Figure size 1000x800 with 2 Axes>"
      ]
     },
     "metadata": {},
     "output_type": "display_data"
    },
    {
     "data": {
      "application/vnd.plotly.v1+json": {
       "config": {
        "plotlyServerURL": "https://plot.ly"
       },
       "data": [
        {
         "name": "Post Count",
         "type": "scatter",
         "x": [
          "2025-03-02T00:00:00.000000000",
          "2025-03-03T00:00:00.000000000",
          "2025-03-04T00:00:00.000000000",
          "2025-03-05T00:00:00.000000000",
          "2025-03-06T00:00:00.000000000",
          "2025-03-07T00:00:00.000000000",
          "2025-03-08T00:00:00.000000000",
          "2025-03-09T00:00:00.000000000"
         ],
         "xaxis": "x",
         "y": {
          "bdata": "RQB2AKwAlACiAH8AjwA9AA==",
          "dtype": "i2"
         },
         "yaxis": "y"
        },
        {
         "name": "Avg Engagement",
         "type": "scatter",
         "x": [
          "2025-03-02T00:00:00.000000000",
          "2025-03-03T00:00:00.000000000",
          "2025-03-04T00:00:00.000000000",
          "2025-03-05T00:00:00.000000000",
          "2025-03-06T00:00:00.000000000",
          "2025-03-07T00:00:00.000000000",
          "2025-03-08T00:00:00.000000000",
          "2025-03-09T00:00:00.000000000"
         ],
         "xaxis": "x",
         "y": {
          "bdata": "z/M8z9MuhkA/aFWcPEKIQDiy3cO4B4pAsPiKrzhvh0AseGtaYtSIQDL4yKYJ/IdALanYoUp0h0C5lEu59BmJQA==",
          "dtype": "f8"
         },
         "yaxis": "y2"
        }
       ],
       "layout": {
        "template": {
         "data": {
          "bar": [
           {
            "error_x": {
             "color": "#2a3f5f"
            },
            "error_y": {
             "color": "#2a3f5f"
            },
            "marker": {
             "line": {
              "color": "white",
              "width": 0.5
             },
             "pattern": {
              "fillmode": "overlay",
              "size": 10,
              "solidity": 0.2
             }
            },
            "type": "bar"
           }
          ],
          "barpolar": [
           {
            "marker": {
             "line": {
              "color": "white",
              "width": 0.5
             },
             "pattern": {
              "fillmode": "overlay",
              "size": 10,
              "solidity": 0.2
             }
            },
            "type": "barpolar"
           }
          ],
          "carpet": [
           {
            "aaxis": {
             "endlinecolor": "#2a3f5f",
             "gridcolor": "#C8D4E3",
             "linecolor": "#C8D4E3",
             "minorgridcolor": "#C8D4E3",
             "startlinecolor": "#2a3f5f"
            },
            "baxis": {
             "endlinecolor": "#2a3f5f",
             "gridcolor": "#C8D4E3",
             "linecolor": "#C8D4E3",
             "minorgridcolor": "#C8D4E3",
             "startlinecolor": "#2a3f5f"
            },
            "type": "carpet"
           }
          ],
          "choropleth": [
           {
            "colorbar": {
             "outlinewidth": 0,
             "ticks": ""
            },
            "type": "choropleth"
           }
          ],
          "contour": [
           {
            "colorbar": {
             "outlinewidth": 0,
             "ticks": ""
            },
            "colorscale": [
             [
              0,
              "#0d0887"
             ],
             [
              0.1111111111111111,
              "#46039f"
             ],
             [
              0.2222222222222222,
              "#7201a8"
             ],
             [
              0.3333333333333333,
              "#9c179e"
             ],
             [
              0.4444444444444444,
              "#bd3786"
             ],
             [
              0.5555555555555556,
              "#d8576b"
             ],
             [
              0.6666666666666666,
              "#ed7953"
             ],
             [
              0.7777777777777778,
              "#fb9f3a"
             ],
             [
              0.8888888888888888,
              "#fdca26"
             ],
             [
              1,
              "#f0f921"
             ]
            ],
            "type": "contour"
           }
          ],
          "contourcarpet": [
           {
            "colorbar": {
             "outlinewidth": 0,
             "ticks": ""
            },
            "type": "contourcarpet"
           }
          ],
          "heatmap": [
           {
            "colorbar": {
             "outlinewidth": 0,
             "ticks": ""
            },
            "colorscale": [
             [
              0,
              "#0d0887"
             ],
             [
              0.1111111111111111,
              "#46039f"
             ],
             [
              0.2222222222222222,
              "#7201a8"
             ],
             [
              0.3333333333333333,
              "#9c179e"
             ],
             [
              0.4444444444444444,
              "#bd3786"
             ],
             [
              0.5555555555555556,
              "#d8576b"
             ],
             [
              0.6666666666666666,
              "#ed7953"
             ],
             [
              0.7777777777777778,
              "#fb9f3a"
             ],
             [
              0.8888888888888888,
              "#fdca26"
             ],
             [
              1,
              "#f0f921"
             ]
            ],
            "type": "heatmap"
           }
          ],
          "histogram": [
           {
            "marker": {
             "pattern": {
              "fillmode": "overlay",
              "size": 10,
              "solidity": 0.2
             }
            },
            "type": "histogram"
           }
          ],
          "histogram2d": [
           {
            "colorbar": {
             "outlinewidth": 0,
             "ticks": ""
            },
            "colorscale": [
             [
              0,
              "#0d0887"
             ],
             [
              0.1111111111111111,
              "#46039f"
             ],
             [
              0.2222222222222222,
              "#7201a8"
             ],
             [
              0.3333333333333333,
              "#9c179e"
             ],
             [
              0.4444444444444444,
              "#bd3786"
             ],
             [
              0.5555555555555556,
              "#d8576b"
             ],
             [
              0.6666666666666666,
              "#ed7953"
             ],
             [
              0.7777777777777778,
              "#fb9f3a"
             ],
             [
              0.8888888888888888,
              "#fdca26"
             ],
             [
              1,
              "#f0f921"
             ]
            ],
            "type": "histogram2d"
           }
          ],
          "histogram2dcontour": [
           {
            "colorbar": {
             "outlinewidth": 0,
             "ticks": ""
            },
            "colorscale": [
             [
              0,
              "#0d0887"
             ],
             [
              0.1111111111111111,
              "#46039f"
             ],
             [
              0.2222222222222222,
              "#7201a8"
             ],
             [
              0.3333333333333333,
              "#9c179e"
             ],
             [
              0.4444444444444444,
              "#bd3786"
             ],
             [
              0.5555555555555556,
              "#d8576b"
             ],
             [
              0.6666666666666666,
              "#ed7953"
             ],
             [
              0.7777777777777778,
              "#fb9f3a"
             ],
             [
              0.8888888888888888,
              "#fdca26"
             ],
             [
              1,
              "#f0f921"
             ]
            ],
            "type": "histogram2dcontour"
           }
          ],
          "mesh3d": [
           {
            "colorbar": {
             "outlinewidth": 0,
             "ticks": ""
            },
            "type": "mesh3d"
           }
          ],
          "parcoords": [
           {
            "line": {
             "colorbar": {
              "outlinewidth": 0,
              "ticks": ""
             }
            },
            "type": "parcoords"
           }
          ],
          "pie": [
           {
            "automargin": true,
            "type": "pie"
           }
          ],
          "scatter": [
           {
            "fillpattern": {
             "fillmode": "overlay",
             "size": 10,
             "solidity": 0.2
            },
            "type": "scatter"
           }
          ],
          "scatter3d": [
           {
            "line": {
             "colorbar": {
              "outlinewidth": 0,
              "ticks": ""
             }
            },
            "marker": {
             "colorbar": {
              "outlinewidth": 0,
              "ticks": ""
             }
            },
            "type": "scatter3d"
           }
          ],
          "scattercarpet": [
           {
            "marker": {
             "colorbar": {
              "outlinewidth": 0,
              "ticks": ""
             }
            },
            "type": "scattercarpet"
           }
          ],
          "scattergeo": [
           {
            "marker": {
             "colorbar": {
              "outlinewidth": 0,
              "ticks": ""
             }
            },
            "type": "scattergeo"
           }
          ],
          "scattergl": [
           {
            "marker": {
             "colorbar": {
              "outlinewidth": 0,
              "ticks": ""
             }
            },
            "type": "scattergl"
           }
          ],
          "scattermap": [
           {
            "marker": {
             "colorbar": {
              "outlinewidth": 0,
              "ticks": ""
             }
            },
            "type": "scattermap"
           }
          ],
          "scattermapbox": [
           {
            "marker": {
             "colorbar": {
              "outlinewidth": 0,
              "ticks": ""
             }
            },
            "type": "scattermapbox"
           }
          ],
          "scatterpolar": [
           {
            "marker": {
             "colorbar": {
              "outlinewidth": 0,
              "ticks": ""
             }
            },
            "type": "scatterpolar"
           }
          ],
          "scatterpolargl": [
           {
            "marker": {
             "colorbar": {
              "outlinewidth": 0,
              "ticks": ""
             }
            },
            "type": "scatterpolargl"
           }
          ],
          "scatterternary": [
           {
            "marker": {
             "colorbar": {
              "outlinewidth": 0,
              "ticks": ""
             }
            },
            "type": "scatterternary"
           }
          ],
          "surface": [
           {
            "colorbar": {
             "outlinewidth": 0,
             "ticks": ""
            },
            "colorscale": [
             [
              0,
              "#0d0887"
             ],
             [
              0.1111111111111111,
              "#46039f"
             ],
             [
              0.2222222222222222,
              "#7201a8"
             ],
             [
              0.3333333333333333,
              "#9c179e"
             ],
             [
              0.4444444444444444,
              "#bd3786"
             ],
             [
              0.5555555555555556,
              "#d8576b"
             ],
             [
              0.6666666666666666,
              "#ed7953"
             ],
             [
              0.7777777777777778,
              "#fb9f3a"
             ],
             [
              0.8888888888888888,
              "#fdca26"
             ],
             [
              1,
              "#f0f921"
             ]
            ],
            "type": "surface"
           }
          ],
          "table": [
           {
            "cells": {
             "fill": {
              "color": "#EBF0F8"
             },
             "line": {
              "color": "white"
             }
            },
            "header": {
             "fill": {
              "color": "#C8D4E3"
             },
             "line": {
              "color": "white"
             }
            },
            "type": "table"
           }
          ]
         },
         "layout": {
          "annotationdefaults": {
           "arrowcolor": "#2a3f5f",
           "arrowhead": 0,
           "arrowwidth": 1
          },
          "autotypenumbers": "strict",
          "coloraxis": {
           "colorbar": {
            "outlinewidth": 0,
            "ticks": ""
           }
          },
          "colorscale": {
           "diverging": [
            [
             0,
             "#8e0152"
            ],
            [
             0.1,
             "#c51b7d"
            ],
            [
             0.2,
             "#de77ae"
            ],
            [
             0.3,
             "#f1b6da"
            ],
            [
             0.4,
             "#fde0ef"
            ],
            [
             0.5,
             "#f7f7f7"
            ],
            [
             0.6,
             "#e6f5d0"
            ],
            [
             0.7,
             "#b8e186"
            ],
            [
             0.8,
             "#7fbc41"
            ],
            [
             0.9,
             "#4d9221"
            ],
            [
             1,
             "#276419"
            ]
           ],
           "sequential": [
            [
             0,
             "#0d0887"
            ],
            [
             0.1111111111111111,
             "#46039f"
            ],
            [
             0.2222222222222222,
             "#7201a8"
            ],
            [
             0.3333333333333333,
             "#9c179e"
            ],
            [
             0.4444444444444444,
             "#bd3786"
            ],
            [
             0.5555555555555556,
             "#d8576b"
            ],
            [
             0.6666666666666666,
             "#ed7953"
            ],
            [
             0.7777777777777778,
             "#fb9f3a"
            ],
            [
             0.8888888888888888,
             "#fdca26"
            ],
            [
             1,
             "#f0f921"
            ]
           ],
           "sequentialminus": [
            [
             0,
             "#0d0887"
            ],
            [
             0.1111111111111111,
             "#46039f"
            ],
            [
             0.2222222222222222,
             "#7201a8"
            ],
            [
             0.3333333333333333,
             "#9c179e"
            ],
            [
             0.4444444444444444,
             "#bd3786"
            ],
            [
             0.5555555555555556,
             "#d8576b"
            ],
            [
             0.6666666666666666,
             "#ed7953"
            ],
            [
             0.7777777777777778,
             "#fb9f3a"
            ],
            [
             0.8888888888888888,
             "#fdca26"
            ],
            [
             1,
             "#f0f921"
            ]
           ]
          },
          "colorway": [
           "#636efa",
           "#EF553B",
           "#00cc96",
           "#ab63fa",
           "#FFA15A",
           "#19d3f3",
           "#FF6692",
           "#B6E880",
           "#FF97FF",
           "#FECB52"
          ],
          "font": {
           "color": "#2a3f5f"
          },
          "geo": {
           "bgcolor": "white",
           "lakecolor": "white",
           "landcolor": "white",
           "showlakes": true,
           "showland": true,
           "subunitcolor": "#C8D4E3"
          },
          "hoverlabel": {
           "align": "left"
          },
          "hovermode": "closest",
          "mapbox": {
           "style": "light"
          },
          "paper_bgcolor": "white",
          "plot_bgcolor": "white",
          "polar": {
           "angularaxis": {
            "gridcolor": "#EBF0F8",
            "linecolor": "#EBF0F8",
            "ticks": ""
           },
           "bgcolor": "white",
           "radialaxis": {
            "gridcolor": "#EBF0F8",
            "linecolor": "#EBF0F8",
            "ticks": ""
           }
          },
          "scene": {
           "xaxis": {
            "backgroundcolor": "white",
            "gridcolor": "#DFE8F3",
            "gridwidth": 2,
            "linecolor": "#EBF0F8",
            "showbackground": true,
            "ticks": "",
            "zerolinecolor": "#EBF0F8"
           },
           "yaxis": {
            "backgroundcolor": "white",
            "gridcolor": "#DFE8F3",
            "gridwidth": 2,
            "linecolor": "#EBF0F8",
            "showbackground": true,
            "ticks": "",
            "zerolinecolor": "#EBF0F8"
           },
           "zaxis": {
            "backgroundcolor": "white",
            "gridcolor": "#DFE8F3",
            "gridwidth": 2,
            "linecolor": "#EBF0F8",
            "showbackground": true,
            "ticks": "",
            "zerolinecolor": "#EBF0F8"
           }
          },
          "shapedefaults": {
           "line": {
            "color": "#2a3f5f"
           }
          },
          "ternary": {
           "aaxis": {
            "gridcolor": "#DFE8F3",
            "linecolor": "#A2B1C6",
            "ticks": ""
           },
           "baxis": {
            "gridcolor": "#DFE8F3",
            "linecolor": "#A2B1C6",
            "ticks": ""
           },
           "bgcolor": "white",
           "caxis": {
            "gridcolor": "#DFE8F3",
            "linecolor": "#A2B1C6",
            "ticks": ""
           }
          },
          "title": {
           "x": 0.05
          },
          "xaxis": {
           "automargin": true,
           "gridcolor": "#EBF0F8",
           "linecolor": "#EBF0F8",
           "ticks": "",
           "title": {
            "standoff": 15
           },
           "zerolinecolor": "#EBF0F8",
           "zerolinewidth": 2
          },
          "yaxis": {
           "automargin": true,
           "gridcolor": "#EBF0F8",
           "linecolor": "#EBF0F8",
           "ticks": "",
           "title": {
            "standoff": 15
           },
           "zerolinecolor": "#EBF0F8",
           "zerolinewidth": 2
          }
         }
        },
        "title": {
         "text": "Post Count and Engagement Over Time"
        },
        "xaxis": {
         "anchor": "y",
         "domain": [
          0,
          0.94
         ],
         "title": {
          "text": "Date"
         }
        },
        "yaxis": {
         "anchor": "x",
         "domain": [
          0,
          1
         ],
         "title": {
          "text": "Post Count"
         }
        },
        "yaxis2": {
         "anchor": "x",
         "overlaying": "y",
         "side": "right",
         "title": {
          "text": "Average Engagement"
         }
        }
       }
      }
     },
     "metadata": {},
     "output_type": "display_data"
    }
   ],
   "source": [
    "# Check if social media data is loaded\n",
    "if social_df is not None:\n",
    "    # 1. Compare engagement metrics across platforms\n",
    "    plt.figure(figsize=(12, 8))\n",
    "    \n",
    "    # Group by platform and calculate metrics\n",
    "    platform_metrics = social_df.groupby('platform').agg({\n",
    "        'post_count': 'sum',\n",
    "        'total_likes': 'sum',\n",
    "        'total_shares': 'sum',\n",
    "        'total_comments': 'sum',\n",
    "        'avg_engagement': 'mean',\n",
    "        'avg_sentiment': 'mean'\n",
    "    }).reset_index()\n",
    "    \n",
    "    # Create a subplot with 2 rows and 2 columns\n",
    "    fig, axes = plt.subplots(2, 2, figsize=(14, 10))\n",
    "    \n",
    "    # Plot 1: Post Count by Platform\n",
    "    sns.barplot(x='platform', y='post_count', data=platform_metrics, ax=axes[0, 0])\n",
    "    axes[0, 0].set_title('Post Count by Platform')\n",
    "    axes[0, 0].set_xlabel('Platform')\n",
    "    axes[0, 0].set_ylabel('Number of Posts')\n",
    "    \n",
    "    # Plot 2: Average Engagement by Platform\n",
    "    sns.barplot(x='platform', y='avg_engagement', data=platform_metrics, ax=axes[0, 1])\n",
    "    axes[0, 1].set_title('Average Engagement Score by Platform')\n",
    "    axes[0, 1].set_xlabel('Platform')\n",
    "    axes[0, 1].set_ylabel('Avg Engagement Score')\n",
    "    \n",
    "    # Plot 3: Total Likes, Shares, Comments by Platform\n",
    "    platform_metrics_melted = pd.melt(\n",
    "        platform_metrics, \n",
    "        id_vars=['platform'], \n",
    "        value_vars=['total_likes', 'total_shares', 'total_comments'],\n",
    "        var_name='metric', value_name='value'\n",
    "    )\n",
    "    sns.barplot(x='platform', y='value', hue='metric', data=platform_metrics_melted, ax=axes[1, 0])\n",
    "    axes[1, 0].set_title('Engagement Metrics by Platform')\n",
    "    axes[1, 0].set_xlabel('Platform')\n",
    "    axes[1, 0].set_ylabel('Count')\n",
    "    axes[1, 0].legend(title='Metric')\n",
    "    \n",
    "    # Plot 4: Average Sentiment by Platform\n",
    "    sns.barplot(x='platform', y='avg_sentiment', data=platform_metrics, ax=axes[1, 1])\n",
    "    axes[1, 1].set_title('Average Sentiment by Platform')\n",
    "    axes[1, 1].set_xlabel('Platform')\n",
    "    axes[1, 1].set_ylabel('Avg Sentiment Score')\n",
    "    \n",
    "    plt.tight_layout()\n",
    "    plt.savefig('../visualization/social_media_analysis.png', dpi=300)\n",
    "    plt.show()\n",
    "    \n",
    "    # 2. Create heatmap of sentiment by category and platform\n",
    "    plt.figure(figsize=(10, 8))\n",
    "    \n",
    "    # Group by platform and category to get average sentiment\n",
    "    sentiment_pivot = social_df.pivot_table(\n",
    "        index='platform', \n",
    "        columns='category', \n",
    "        values='avg_sentiment',\n",
    "        aggfunc='mean'\n",
    "    )\n",
    "    \n",
    "    # Create heatmap\n",
    "    sns.heatmap(sentiment_pivot, annot=True, cmap='RdYlGn', center=0, fmt='.2f')\n",
    "    plt.title('Average Sentiment by Platform and Category', fontsize=16)\n",
    "    plt.tight_layout()\n",
    "    plt.savefig('../visualization/sentiment_heatmap.png', dpi=300)\n",
    "    plt.show()\n",
    "    \n",
    "    # 3. Create interactive plot of engagement over time\n",
    "    # Group by date for time series analysis\n",
    "    daily_engagement = social_df.groupby('date').agg({\n",
    "        'post_count': 'sum',\n",
    "        'avg_engagement': 'mean',\n",
    "        'avg_sentiment': 'mean'\n",
    "    }).reset_index()\n",
    "    \n",
    "    # Create interactive line chart with Plotly\n",
    "    fig = make_subplots(specs=[[{\"secondary_y\": True}]])\n",
    "    \n",
    "    fig.add_trace(\n",
    "        go.Scatter(x=daily_engagement['date'], y=daily_engagement['post_count'], name=\"Post Count\"),\n",
    "        secondary_y=False,\n",
    "    )\n",
    "    \n",
    "    fig.add_trace(\n",
    "        go.Scatter(x=daily_engagement['date'], y=daily_engagement['avg_engagement'], name=\"Avg Engagement\"),\n",
    "        secondary_y=True,\n",
    "    )\n",
    "    \n",
    "    fig.update_layout(\n",
    "        title_text=\"Post Count and Engagement Over Time\",\n",
    "        template='plotly_white'\n",
    "    )\n",
    "    \n",
    "    fig.update_xaxes(title_text=\"Date\")\n",
    "    fig.update_yaxes(title_text=\"Post Count\", secondary_y=False)\n",
    "    fig.update_yaxes(title_text=\"Average Engagement\", secondary_y=True)\n",
    "    \n",
    "    fig.show()\n",
    "    fig.write_html('../visualization/social_engagement_over_time.html')\n",
    "    \n",
    "else:\n",
    "    print(\"Social media data not available for visualization\")"
   ]
  },
  {
   "cell_type": "code",
   "execution_count": 7,
   "metadata": {},
   "outputs": [
    {
     "data": {
      "image/png": "[encoded data removed]",
      "text/plain": [
       "<Figure size 1200x800 with 2 Axes>"
      ]
     },
     "metadata": {},
     "output_type": "display_data"
    },
    {
     "data": {
      "image/png": "[encoded data removed]",
      "text/plain": [
       "<Figure size 1400x800 with 1 Axes>"
      ]
     },
     "metadata": {},
     "output_type": "display_data"
    },
    {
     "data": {
      "text/plain": [
       "<Figure size 1200x600 with 0 Axes>"
      ]
     },
     "metadata": {},
     "output_type": "display_data"
    },
    {
     "data": {
      "image/png": "[encoded data removed]",
      "text/plain": [
       "<Figure size 1200x600 with 1 Axes>"
      ]
     },
     "metadata": {},
     "output_type": "display_data"
    },
    {
     "data": {
      "application/vnd.plotly.v1+json": {
       "config": {
        "plotlyServerURL": "https://plot.ly"
       },
       "data": [
        {
         "hovertemplate": "sensor_type=co2<br>date=%{x}<br>avg_value=%{y}<extra></extra>",
         "legendgroup": "co2",
         "line": {
          "color": "#636efa",
          "dash": "solid"
         },
         "marker": {
          "symbol": "circle"
         },
         "mode": "lines",
         "name": "co2",
         "orientation": "v",
         "showlegend": true,
         "type": "scatter",
         "x": [
          "2025-03-02T00:00:00.000000000",
          "2025-03-03T00:00:00.000000000",
          "2025-03-04T00:00:00.000000000",
          "2025-03-05T00:00:00.000000000",
          "2025-03-06T00:00:00.000000000",
          "2025-03-07T00:00:00.000000000",
          "2025-03-08T00:00:00.000000000",
          "2025-03-09T00:00:00.000000000"
         ],
         "xaxis": "x",
         "y": {
          "bdata": "exSuR+F2iEC1/Y+0/cqHQHYrQB+X1ohAVl3vbLr4iEBSuB6F6xeKQNv1GplftopA8tp9CTjciUATz4pGAqaFQA==",
          "dtype": "f8"
         },
         "yaxis": "y"
        },
        {
         "hovertemplate": "sensor_type=humidity<br>date=%{x}<br>avg_value=%{y}<extra></extra>",
         "legendgroup": "humidity",
         "line": {
          "color": "#EF553B",
          "dash": "solid"
         },
         "marker": {
          "symbol": "circle"
         },
         "mode": "lines",
         "name": "humidity",
         "orientation": "v",
         "showlegend": true,
         "type": "scatter",
         "x": [
          "2025-03-02T00:00:00.000000000",
          "2025-03-03T00:00:00.000000000",
          "2025-03-04T00:00:00.000000000",
          "2025-03-05T00:00:00.000000000",
          "2025-03-06T00:00:00.000000000",
          "2025-03-07T00:00:00.000000000",
          "2025-03-08T00:00:00.000000000",
          "2025-03-09T00:00:00.000000000"
         ],
         "xaxis": "x",
         "y": {
          "bdata": "asi5zy5YSkC1Pty0PlxJQGbuBinkL0lAQ69itnJKSEAq80ye2nlJQJXmsYG6fkhAdVAHdVCPSUBKEBk/Oe1HQA==",
          "dtype": "f8"
         },
         "yaxis": "y"
        },
        {
         "hovertemplate": "sensor_type=light<br>date=%{x}<br>avg_value=%{y}<extra></extra>",
         "legendgroup": "light",
         "line": {
          "color": "#00cc96",
          "dash": "solid"
         },
         "marker": {
          "symbol": "circle"
         },
         "mode": "lines",
         "name": "light",
         "orientation": "v",
         "showlegend": true,
         "type": "scatter",
         "x": [
          "2025-03-02T00:00:00.000000000",
          "2025-03-03T00:00:00.000000000",
          "2025-03-04T00:00:00.000000000",
          "2025-03-05T00:00:00.000000000",
          "2025-03-06T00:00:00.000000000",
          "2025-03-07T00:00:00.000000000",
          "2025-03-08T00:00:00.000000000",
          "2025-03-09T00:00:00.000000000"
         ],
         "xaxis": "x",
         "y": {
          "bdata": "xld8xVeUgECu1ERHbmB/QBuU8zsgfH9AGIYPYyKafkCeSMqH60x9QOuv/uqvNH5ATd8DTd/rfUCTPumTPkF9QA==",
          "dtype": "f8"
         },
         "yaxis": "y"
        },
        {
         "hovertemplate": "sensor_type=pressure<br>date=%{x}<br>avg_value=%{y}<extra></extra>",
         "legendgroup": "pressure",
         "line": {
          "color": "#ab63fa",
          "dash": "solid"
         },
         "marker": {
          "symbol": "circle"
         },
         "mode": "lines",
         "name": "pressure",
         "orientation": "v",
         "showlegend": true,
         "type": "scatter",
         "x": [
          "2025-03-02T00:00:00.000000000",
          "2025-03-03T00:00:00.000000000",
          "2025-03-04T00:00:00.000000000",
          "2025-03-05T00:00:00.000000000",
          "2025-03-06T00:00:00.000000000",
          "2025-03-07T00:00:00.000000000",
          "2025-03-08T00:00:00.000000000",
          "2025-03-09T00:00:00.000000000"
         ],
         "xaxis": "x",
         "y": {
          "bdata": "01oyEWU3j0ArFMGWnjGPQCsW8uM0S49AFoHJKog2j0DOWtUELzuPQNWd8XZHU49A/ujvljlBj0CIx4ID3EyPQA==",
          "dtype": "f8"
         },
         "yaxis": "y"
        },
        {
         "hovertemplate": "sensor_type=temperature<br>date=%{x}<br>avg_value=%{y}<extra></extra>",
         "legendgroup": "temperature",
         "line": {
          "color": "#FFA15A",
          "dash": "solid"
         },
         "marker": {
          "symbol": "circle"
         },
         "mode": "lines",
         "name": "temperature",
         "orientation": "v",
         "showlegend": true,
         "type": "scatter",
         "x": [
          "2025-03-02T00:00:00.000000000",
          "2025-03-03T00:00:00.000000000",
          "2025-03-04T00:00:00.000000000",
          "2025-03-05T00:00:00.000000000",
          "2025-03-06T00:00:00.000000000",
          "2025-03-07T00:00:00.000000000",
          "2025-03-08T00:00:00.000000000",
          "2025-03-09T00:00:00.000000000"
         ],
         "xaxis": "x",
         "y": {
          "bdata": "Wng2XvGgNkA9uYy0rks3QDDURIKMAzdAu8g8F1jfN0BLO6BVEuQ2QCNOeKn84DZAI3aIghMtN0AiaUrF2ec2QA==",
          "dtype": "f8"
         },
         "yaxis": "y"
        }
       ],
       "layout": {
        "legend": {
         "title": {
          "text": "sensor_type"
         },
         "tracegroupgap": 0
        },
        "template": {
         "data": {
          "bar": [
           {
            "error_x": {
             "color": "#2a3f5f"
            },
            "error_y": {
             "color": "#2a3f5f"
            },
            "marker": {
             "line": {
              "color": "white",
              "width": 0.5
             },
             "pattern": {
              "fillmode": "overlay",
              "size": 10,
              "solidity": 0.2
             }
            },
            "type": "bar"
           }
          ],
          "barpolar": [
           {
            "marker": {
             "line": {
              "color": "white",
              "width": 0.5
             },
             "pattern": {
              "fillmode": "overlay",
              "size": 10,
              "solidity": 0.2
             }
            },
            "type": "barpolar"
           }
          ],
          "carpet": [
           {
            "aaxis": {
             "endlinecolor": "#2a3f5f",
             "gridcolor": "#C8D4E3",
             "linecolor": "#C8D4E3",
             "minorgridcolor": "#C8D4E3",
             "startlinecolor": "#2a3f5f"
            },
            "baxis": {
             "endlinecolor": "#2a3f5f",
             "gridcolor": "#C8D4E3",
             "linecolor": "#C8D4E3",
             "minorgridcolor": "#C8D4E3",
             "startlinecolor": "#2a3f5f"
            },
            "type": "carpet"
           }
          ],
          "choropleth": [
           {
            "colorbar": {
             "outlinewidth": 0,
             "ticks": ""
            },
            "type": "choropleth"
           }
          ],
          "contour": [
           {
            "colorbar": {
             "outlinewidth": 0,
             "ticks": ""
            },
            "colorscale": [
             [
              0,
              "#0d0887"
             ],
             [
              0.1111111111111111,
              "#46039f"
             ],
             [
              0.2222222222222222,
              "#7201a8"
             ],
             [
              0.3333333333333333,
              "#9c179e"
             ],
             [
              0.4444444444444444,
              "#bd3786"
             ],
             [
              0.5555555555555556,
              "#d8576b"
             ],
             [
              0.6666666666666666,
              "#ed7953"
             ],
             [
              0.7777777777777778,
              "#fb9f3a"
             ],
             [
              0.8888888888888888,
              "#fdca26"
             ],
             [
              1,
              "#f0f921"
             ]
            ],
            "type": "contour"
           }
          ],
          "contourcarpet": [
           {
            "colorbar": {
             "outlinewidth": 0,
             "ticks": ""
            },
            "type": "contourcarpet"
           }
          ],
          "heatmap": [
           {
            "colorbar": {
             "outlinewidth": 0,
             "ticks": ""
            },
            "colorscale": [
             [
              0,
              "#0d0887"
             ],
             [
              0.1111111111111111,
              "#46039f"
             ],
             [
              0.2222222222222222,
              "#7201a8"
             ],
             [
              0.3333333333333333,
              "#9c179e"
             ],
             [
              0.4444444444444444,
              "#bd3786"
             ],
             [
              0.5555555555555556,
              "#d8576b"
             ],
             [
              0.6666666666666666,
              "#ed7953"
             ],
             [
              0.7777777777777778,
              "#fb9f3a"
             ],
             [
              0.8888888888888888,
              "#fdca26"
             ],
             [
              1,
              "#f0f921"
             ]
            ],
            "type": "heatmap"
           }
          ],
          "histogram": [
           {
            "marker": {
             "pattern": {
              "fillmode": "overlay",
              "size": 10,
              "solidity": 0.2
             }
            },
            "type": "histogram"
           }
          ],
          "histogram2d": [
           {
            "colorbar": {
             "outlinewidth": 0,
             "ticks": ""
            },
            "colorscale": [
             [
              0,
              "#0d0887"
             ],
             [
              0.1111111111111111,
              "#46039f"
             ],
             [
              0.2222222222222222,
              "#7201a8"
             ],
             [
              0.3333333333333333,
              "#9c179e"
             ],
             [
              0.4444444444444444,
              "#bd3786"
             ],
             [
              0.5555555555555556,
              "#d8576b"
             ],
             [
              0.6666666666666666,
              "#ed7953"
             ],
             [
              0.7777777777777778,
              "#fb9f3a"
             ],
             [
              0.8888888888888888,
              "#fdca26"
             ],
             [
              1,
              "#f0f921"
             ]
            ],
            "type": "histogram2d"
           }
          ],
          "histogram2dcontour": [
           {
            "colorbar": {
             "outlinewidth": 0,
             "ticks": ""
            },
            "colorscale": [
             [
              0,
              "#0d0887"
             ],
             [
              0.1111111111111111,
              "#46039f"
             ],
             [
              0.2222222222222222,
              "#7201a8"
             ],
             [
              0.3333333333333333,
              "#9c179e"
             ],
             [
              0.4444444444444444,
              "#bd3786"
             ],
             [
              0.5555555555555556,
              "#d8576b"
             ],
             [
              0.6666666666666666,
              "#ed7953"
             ],
             [
              0.7777777777777778,
              "#fb9f3a"
             ],
             [
              0.8888888888888888,
              "#fdca26"
             ],
             [
              1,
              "#f0f921"
             ]
            ],
            "type": "histogram2dcontour"
           }
          ],
          "mesh3d": [
           {
            "colorbar": {
             "outlinewidth": 0,
             "ticks": ""
            },
            "type": "mesh3d"
           }
          ],
          "parcoords": [
           {
            "line": {
             "colorbar": {
              "outlinewidth": 0,
              "ticks": ""
             }
            },
            "type": "parcoords"
           }
          ],
          "pie": [
           {
            "automargin": true,
            "type": "pie"
           }
          ],
          "scatter": [
           {
            "fillpattern": {
             "fillmode": "overlay",
             "size": 10,
             "solidity": 0.2
            },
            "type": "scatter"
           }
          ],
          "scatter3d": [
           {
            "line": {
             "colorbar": {
              "outlinewidth": 0,
              "ticks": ""
             }
            },
            "marker": {
             "colorbar": {
              "outlinewidth": 0,
              "ticks": ""
             }
            },
            "type": "scatter3d"
           }
          ],
          "scattercarpet": [
           {
            "marker": {
             "colorbar": {
              "outlinewidth": 0,
              "ticks": ""
             }
            },
            "type": "scattercarpet"
           }
          ],
          "scattergeo": [
           {
            "marker": {
             "colorbar": {
              "outlinewidth": 0,
              "ticks": ""
             }
            },
            "type": "scattergeo"
           }
          ],
          "scattergl": [
           {
            "marker": {
             "colorbar": {
              "outlinewidth": 0,
              "ticks": ""
             }
            },
            "type": "scattergl"
           }
          ],
          "scattermap": [
           {
            "marker": {
             "colorbar": {
              "outlinewidth": 0,
              "ticks": ""
             }
            },
            "type": "scattermap"
           }
          ],
          "scattermapbox": [
           {
            "marker": {
             "colorbar": {
              "outlinewidth": 0,
              "ticks": ""
             }
            },
            "type": "scattermapbox"
           }
          ],
          "scatterpolar": [
           {
            "marker": {
             "colorbar": {
              "outlinewidth": 0,
              "ticks": ""
             }
            },
            "type": "scatterpolar"
           }
          ],
          "scatterpolargl": [
           {
            "marker": {
             "colorbar": {
              "outlinewidth": 0,
              "ticks": ""
             }
            },
            "type": "scatterpolargl"
           }
          ],
          "scatterternary": [
           {
            "marker": {
             "colorbar": {
              "outlinewidth": 0,
              "ticks": ""
             }
            },
            "type": "scatterternary"
           }
          ],
          "surface": [
           {
            "colorbar": {
             "outlinewidth": 0,
             "ticks": ""
            },
            "colorscale": [
             [
              0,
              "#0d0887"
             ],
             [
              0.1111111111111111,
              "#46039f"
             ],
             [
              0.2222222222222222,
              "#7201a8"
             ],
             [
              0.3333333333333333,
              "#9c179e"
             ],
             [
              0.4444444444444444,
              "#bd3786"
             ],
             [
              0.5555555555555556,
              "#d8576b"
             ],
             [
              0.6666666666666666,
              "#ed7953"
             ],
             [
              0.7777777777777778,
              "#fb9f3a"
             ],
             [
              0.8888888888888888,
              "#fdca26"
             ],
             [
              1,
              "#f0f921"
             ]
            ],
            "type": "surface"
           }
          ],
          "table": [
           {
            "cells": {
             "fill": {
              "color": "#EBF0F8"
             },
             "line": {
              "color": "white"
             }
            },
            "header": {
             "fill": {
              "color": "#C8D4E3"
             },
             "line": {
              "color": "white"
             }
            },
            "type": "table"
           }
          ]
         },
         "layout": {
          "annotationdefaults": {
           "arrowcolor": "#2a3f5f",
           "arrowhead": 0,
           "arrowwidth": 1
          },
          "autotypenumbers": "strict",
          "coloraxis": {
           "colorbar": {
            "outlinewidth": 0,
            "ticks": ""
           }
          },
          "colorscale": {
           "diverging": [
            [
             0,
             "#8e0152"
            ],
            [
             0.1,
             "#c51b7d"
            ],
            [
             0.2,
             "#de77ae"
            ],
            [
             0.3,
             "#f1b6da"
            ],
            [
             0.4,
             "#fde0ef"
            ],
            [
             0.5,
             "#f7f7f7"
            ],
            [
             0.6,
             "#e6f5d0"
            ],
            [
             0.7,
             "#b8e186"
            ],
            [
             0.8,
             "#7fbc41"
            ],
            [
             0.9,
             "#4d9221"
            ],
            [
             1,
             "#276419"
            ]
           ],
           "sequential": [
            [
             0,
             "#0d0887"
            ],
            [
             0.1111111111111111,
             "#46039f"
            ],
            [
             0.2222222222222222,
             "#7201a8"
            ],
            [
             0.3333333333333333,
             "#9c179e"
            ],
            [
             0.4444444444444444,
             "#bd3786"
            ],
            [
             0.5555555555555556,
             "#d8576b"
            ],
            [
             0.6666666666666666,
             "#ed7953"
            ],
            [
             0.7777777777777778,
             "#fb9f3a"
            ],
            [
             0.8888888888888888,
             "#fdca26"
            ],
            [
             1,
             "#f0f921"
            ]
           ],
           "sequentialminus": [
            [
             0,
             "#0d0887"
            ],
            [
             0.1111111111111111,
             "#46039f"
            ],
            [
             0.2222222222222222,
             "#7201a8"
            ],
            [
             0.3333333333333333,
             "#9c179e"
            ],
            [
             0.4444444444444444,
             "#bd3786"
            ],
            [
             0.5555555555555556,
             "#d8576b"
            ],
            [
             0.6666666666666666,
             "#ed7953"
            ],
            [
             0.7777777777777778,
             "#fb9f3a"
            ],
            [
             0.8888888888888888,
             "#fdca26"
            ],
            [
             1,
             "#f0f921"
            ]
           ]
          },
          "colorway": [
           "#636efa",
           "#EF553B",
           "#00cc96",
           "#ab63fa",
           "#FFA15A",
           "#19d3f3",
           "#FF6692",
           "#B6E880",
           "#FF97FF",
           "#FECB52"
          ],
          "font": {
           "color": "#2a3f5f"
          },
          "geo": {
           "bgcolor": "white",
           "lakecolor": "white",
           "landcolor": "white",
           "showlakes": true,
           "showland": true,
           "subunitcolor": "#C8D4E3"
          },
          "hoverlabel": {
           "align": "left"
          },
          "hovermode": "closest",
          "mapbox": {
           "style": "light"
          },
          "paper_bgcolor": "white",
          "plot_bgcolor": "white",
          "polar": {
           "angularaxis": {
            "gridcolor": "#EBF0F8",
            "linecolor": "#EBF0F8",
            "ticks": ""
           },
           "bgcolor": "white",
           "radialaxis": {
            "gridcolor": "#EBF0F8",
            "linecolor": "#EBF0F8",
            "ticks": ""
           }
          },
          "scene": {
           "xaxis": {
            "backgroundcolor": "white",
            "gridcolor": "#DFE8F3",
            "gridwidth": 2,
            "linecolor": "#EBF0F8",
            "showbackground": true,
            "ticks": "",
            "zerolinecolor": "#EBF0F8"
           },
           "yaxis": {
            "backgroundcolor": "white",
            "gridcolor": "#DFE8F3",
            "gridwidth": 2,
            "linecolor": "#EBF0F8",
            "showbackground": true,
            "ticks": "",
            "zerolinecolor": "#EBF0F8"
           },
           "zaxis": {
            "backgroundcolor": "white",
            "gridcolor": "#DFE8F3",
            "gridwidth": 2,
            "linecolor": "#EBF0F8",
            "showbackground": true,
            "ticks": "",
            "zerolinecolor": "#EBF0F8"
           }
          },
          "shapedefaults": {
           "line": {
            "color": "#2a3f5f"
           }
          },
          "ternary": {
           "aaxis": {
            "gridcolor": "#DFE8F3",
            "linecolor": "#A2B1C6",
            "ticks": ""
           },
           "baxis": {
            "gridcolor": "#DFE8F3",
            "linecolor": "#A2B1C6",
            "ticks": ""
           },
           "bgcolor": "white",
           "caxis": {
            "gridcolor": "#DFE8F3",
            "linecolor": "#A2B1C6",
            "ticks": ""
           }
          },
          "title": {
           "x": 0.05
          },
          "xaxis": {
           "automargin": true,
           "gridcolor": "#EBF0F8",
           "linecolor": "#EBF0F8",
           "ticks": "",
           "title": {
            "standoff": 15
           },
           "zerolinecolor": "#EBF0F8",
           "zerolinewidth": 2
          },
          "yaxis": {
           "automargin": true,
           "gridcolor": "#EBF0F8",
           "linecolor": "#EBF0F8",
           "ticks": "",
           "title": {
            "standoff": 15
           },
           "zerolinecolor": "#EBF0F8",
           "zerolinewidth": 2
          }
         }
        },
        "title": {
         "text": "Average Sensor Values Over Time"
        },
        "xaxis": {
         "anchor": "y",
         "domain": [
          0,
          1
         ],
         "title": {
          "text": "Date"
         }
        },
        "yaxis": {
         "anchor": "x",
         "domain": [
          0,
          1
         ],
         "title": {
          "text": "Average Value"
         }
        }
       }
      }
     },
     "metadata": {},
     "output_type": "display_data"
    }
   ],
   "source": [
    "# Check if sensor data is loaded\n",
    "if sensor_df is not None:\n",
    "    # 1. Visualize average sensor values by type and location\n",
    "    plt.figure(figsize=(12, 8))\n",
    "    \n",
    "    # Create pivot table of average values by sensor type and location\n",
    "    sensor_pivot = sensor_df.pivot_table(\n",
    "        index='location', \n",
    "        columns='sensor_type', \n",
    "        values='avg_value',\n",
    "        aggfunc='mean'\n",
    "    )\n",
    "    \n",
    "    # Create heatmap\n",
    "    sns.heatmap(sensor_pivot, annot=True, cmap='viridis', fmt='.1f')\n",
    "    plt.title('Average Sensor Values by Type and Location', fontsize=16)\n",
    "    plt.tight_layout()\n",
    "    plt.savefig('../visualization/sensor_values_heatmap.png', dpi=300)\n",
    "    plt.show()\n",
    "    \n",
    "    # 2. Create boxplots of sensor values by type\n",
    "    plt.figure(figsize=(14, 8))\n",
    "    \n",
    "    # Melt the dataframe for boxplot\n",
    "    sensor_melted = pd.melt(\n",
    "        sensor_df,\n",
    "        id_vars=['sensor_type'],\n",
    "        value_vars=['avg_value', 'min_value', 'max_value'],\n",
    "        var_name='statistic', value_name='value'\n",
    "    )\n",
    "    \n",
    "    # Create boxplot\n",
    "    sns.boxplot(x='sensor_type', y='value', hue='statistic', data=sensor_melted)\n",
    "    plt.title('Distribution of Sensor Values by Type', fontsize=16)\n",
    "    plt.xlabel('Sensor Type', fontsize=12)\n",
    "    plt.ylabel('Value', fontsize=12)\n",
    "    plt.xticks(rotation=45)\n",
    "    plt.legend(title='Statistic')\n",
    "    plt.tight_layout()\n",
    "    plt.savefig('../visualization/sensor_value_distribution.png', dpi=300)\n",
    "    plt.show()\n",
    "    \n",
    "    # 3. Create stacked bar chart of active vs error readings\n",
    "    plt.figure(figsize=(12, 6))\n",
    "    \n",
    "    # Group by sensor type\n",
    "    sensor_status = sensor_df.groupby('sensor_type').agg({\n",
    "        'active_readings': 'sum',\n",
    "        'error_readings': 'sum'\n",
    "    }).reset_index()\n",
    "    \n",
    "    # Calculate total readings and error rate\n",
    "    sensor_status['total_readings'] = sensor_status['active_readings'] + sensor_status['error_readings']\n",
    "    sensor_status['error_rate'] = sensor_status['error_readings'] / sensor_status['total_readings'] * 100\n",
    "    \n",
    "    # Sort by error rate\n",
    "    sensor_status = sensor_status.sort_values('error_rate', ascending=False)\n",
    "    \n",
    "    # Create stacked bar chart\n",
    "    ax = sensor_status.plot(x='sensor_type', y=['active_readings', 'error_readings'], \n",
    "                         kind='bar', stacked=True, figsize=(12, 6),\n",
    "                         color=['#2ecc71', '#e74c3c'])\n",
    "    \n",
    "    # Add error rate labels\n",
    "    for i, row in enumerate(sensor_status.itertuples()):\n",
    "        ax.text(i, row.total_readings + 5, f'{row.error_rate:.1f}%', \n",
    "               ha='center', va='bottom', fontweight='bold')\n",
    "    \n",
    "    plt.title('Active vs Error Readings by Sensor Type', fontsize=16)\n",
    "    plt.xlabel('Sensor Type', fontsize=12)\n",
    "    plt.ylabel('Number of Readings', fontsize=12)\n",
    "    plt.xticks(rotation=45)\n",
    "    plt.legend(['Active Readings', 'Error Readings'])\n",
    "    plt.tight_layout()\n",
    "    plt.savefig('../visualization/sensor_status.png', dpi=300)\n",
    "    plt.show()\n",
    "    \n",
    "    # 4. Create interactive time series of sensor values\n",
    "    # Group by date and sensor type\n",
    "    daily_sensor = sensor_df.groupby(['date', 'sensor_type']).agg({\n",
    "        'avg_value': 'mean'\n",
    "    }).reset_index()\n",
    "    \n",
    "    # Create interactive line chart with Plotly\n",
    "    fig = px.line(daily_sensor, x='date', y='avg_value', color='sensor_type',\n",
    "                 title='Average Sensor Values Over Time')\n",
    "    \n",
    "    fig.update_layout(\n",
    "        xaxis_title='Date',\n",
    "        yaxis_title='Average Value',\n",
    "        template='plotly_white'\n",
    "    )\n",
    "    \n",
    "    fig.show()\n",
    "    fig.write_html('../visualization/sensor_values_time_series.html')\n",
    "    \n",
    "else:\n",
    "    print(\"Sensor data not available for visualization\")"
   ]
  },
  {
   "cell_type": "code",
   "execution_count": 8,
   "metadata": {},
   "outputs": [
    {
     "data": {
      "image/png": "[encoded data removed]",
      "text/plain": [
       "<Figure size 1200x1000 with 2 Axes>"
      ]
     },
     "metadata": {},
     "output_type": "display_data"
    },
    {
     "data": {
      "text/plain": [
       "<Figure size 1600x1200 with 0 Axes>"
      ]
     },
     "metadata": {},
     "output_type": "display_data"
    },
    {
     "data": {
      "image/png": "[encoded data removed]",
      "text/plain": [
       "<Figure size 1600x1200 with 4 Axes>"
      ]
     },
     "metadata": {},
     "output_type": "display_data"
    },
    {
     "data": {
      "application/vnd.plotly.v1+json": {
       "config": {
        "plotlyServerURL": "https://plot.ly"
       },
       "data": [
        {
         "line": {
          "color": "blue"
         },
         "name": "Web Traffic (normalized)",
         "type": "scatter",
         "x": [
          "2025-03-02T00:00:00.000000000",
          "2025-03-03T00:00:00.000000000",
          "2025-03-04T00:00:00.000000000",
          "2025-03-05T00:00:00.000000000",
          "2025-03-06T00:00:00.000000000",
          "2025-03-07T00:00:00.000000000",
          "2025-03-08T00:00:00.000000000",
          "2025-03-09T00:00:00.000000000"
         ],
         "y": {
          "bdata": "NE+oBYxJnD/HhyDlpqLpPxn2Sn/Oduw/4uB9a2R16T+FWsCYxMHrP0+oBYxJHOw/AAAAAAAA8D8AAAAAAAAAAA==",
          "dtype": "f8"
         }
        },
        {
         "line": {
          "color": "orange"
         },
         "name": "Social Post Count (normalized)",
         "type": "scatter",
         "x": [
          "2025-03-02T00:00:00.000000000",
          "2025-03-03T00:00:00.000000000",
          "2025-03-04T00:00:00.000000000",
          "2025-03-05T00:00:00.000000000",
          "2025-03-06T00:00:00.000000000",
          "2025-03-07T00:00:00.000000000",
          "2025-03-08T00:00:00.000000000",
          "2025-03-09T00:00:00.000000000"
         ],
         "y": {
          "bdata": "NSeBuFBzsj/rBlPks27gPwAAAAAAAPA/TJHPusEU6T/g0Stj+x3tP28wRT7rBuM/PHplbL+j5z8AAAAAAAAAAA==",
          "dtype": "f8"
         }
        },
        {
         "line": {
          "color": "green"
         },
         "name": "Avg Engagement (normalized)",
         "type": "scatter",
         "x": [
          "2025-03-02T00:00:00.000000000",
          "2025-03-03T00:00:00.000000000",
          "2025-03-04T00:00:00.000000000",
          "2025-03-05T00:00:00.000000000",
          "2025-03-06T00:00:00.000000000",
          "2025-03-07T00:00:00.000000000",
          "2025-03-08T00:00:00.000000000",
          "2025-03-09T00:00:00.000000000"
         ],
         "y": {
          "bdata": "AAAAAAAAAAALvIHmSBfeP6Ye2hDsue0/qBu1Qn5S1z9Sgqc6wJLjP5drRbc3iOE/U1Ys6rny1D8AAAAAAADwPw==",
          "dtype": "f8"
         }
        }
       ],
       "layout": {
        "template": {
         "data": {
          "bar": [
           {
            "error_x": {
             "color": "#2a3f5f"
            },
            "error_y": {
             "color": "#2a3f5f"
            },
            "marker": {
             "line": {
              "color": "white",
              "width": 0.5
             },
             "pattern": {
              "fillmode": "overlay",
              "size": 10,
              "solidity": 0.2
             }
            },
            "type": "bar"
           }
          ],
          "barpolar": [
           {
            "marker": {
             "line": {
              "color": "white",
              "width": 0.5
             },
             "pattern": {
              "fillmode": "overlay",
              "size": 10,
              "solidity": 0.2
             }
            },
            "type": "barpolar"
           }
          ],
          "carpet": [
           {
            "aaxis": {
             "endlinecolor": "#2a3f5f",
             "gridcolor": "#C8D4E3",
             "linecolor": "#C8D4E3",
             "minorgridcolor": "#C8D4E3",
             "startlinecolor": "#2a3f5f"
            },
            "baxis": {
             "endlinecolor": "#2a3f5f",
             "gridcolor": "#C8D4E3",
             "linecolor": "#C8D4E3",
             "minorgridcolor": "#C8D4E3",
             "startlinecolor": "#2a3f5f"
            },
            "type": "carpet"
           }
          ],
          "choropleth": [
           {
            "colorbar": {
             "outlinewidth": 0,
             "ticks": ""
            },
            "type": "choropleth"
           }
          ],
          "contour": [
           {
            "colorbar": {
             "outlinewidth": 0,
             "ticks": ""
            },
            "colorscale": [
             [
              0,
              "#0d0887"
             ],
             [
              0.1111111111111111,
              "#46039f"
             ],
             [
              0.2222222222222222,
              "#7201a8"
             ],
             [
              0.3333333333333333,
              "#9c179e"
             ],
             [
              0.4444444444444444,
              "#bd3786"
             ],
             [
              0.5555555555555556,
              "#d8576b"
             ],
             [
              0.6666666666666666,
              "#ed7953"
             ],
             [
              0.7777777777777778,
              "#fb9f3a"
             ],
             [
              0.8888888888888888,
              "#fdca26"
             ],
             [
              1,
              "#f0f921"
             ]
            ],
            "type": "contour"
           }
          ],
          "contourcarpet": [
           {
            "colorbar": {
             "outlinewidth": 0,
             "ticks": ""
            },
            "type": "contourcarpet"
           }
          ],
          "heatmap": [
           {
            "colorbar": {
             "outlinewidth": 0,
             "ticks": ""
            },
            "colorscale": [
             [
              0,
              "#0d0887"
             ],
             [
              0.1111111111111111,
              "#46039f"
             ],
             [
              0.2222222222222222,
              "#7201a8"
             ],
             [
              0.3333333333333333,
              "#9c179e"
             ],
             [
              0.4444444444444444,
              "#bd3786"
             ],
             [
              0.5555555555555556,
              "#d8576b"
             ],
             [
              0.6666666666666666,
              "#ed7953"
             ],
             [
              0.7777777777777778,
              "#fb9f3a"
             ],
             [
              0.8888888888888888,
              "#fdca26"
             ],
             [
              1,
              "#f0f921"
             ]
            ],
            "type": "heatmap"
           }
          ],
          "histogram": [
           {
            "marker": {
             "pattern": {
              "fillmode": "overlay",
              "size": 10,
              "solidity": 0.2
             }
            },
            "type": "histogram"
           }
          ],
          "histogram2d": [
           {
            "colorbar": {
             "outlinewidth": 0,
             "ticks": ""
            },
            "colorscale": [
             [
              0,
              "#0d0887"
             ],
             [
              0.1111111111111111,
              "#46039f"
             ],
             [
              0.2222222222222222,
              "#7201a8"
             ],
             [
              0.3333333333333333,
              "#9c179e"
             ],
             [
              0.4444444444444444,
              "#bd3786"
             ],
             [
              0.5555555555555556,
              "#d8576b"
             ],
             [
              0.6666666666666666,
              "#ed7953"
             ],
             [
              0.7777777777777778,
              "#fb9f3a"
             ],
             [
              0.8888888888888888,
              "#fdca26"
             ],
             [
              1,
              "#f0f921"
             ]
            ],
            "type": "histogram2d"
           }
          ],
          "histogram2dcontour": [
           {
            "colorbar": {
             "outlinewidth": 0,
             "ticks": ""
            },
            "colorscale": [
             [
              0,
              "#0d0887"
             ],
             [
              0.1111111111111111,
              "#46039f"
             ],
             [
              0.2222222222222222,
              "#7201a8"
             ],
             [
              0.3333333333333333,
              "#9c179e"
             ],
             [
              0.4444444444444444,
              "#bd3786"
             ],
             [
              0.5555555555555556,
              "#d8576b"
             ],
             [
              0.6666666666666666,
              "#ed7953"
             ],
             [
              0.7777777777777778,
              "#fb9f3a"
             ],
             [
              0.8888888888888888,
              "#fdca26"
             ],
             [
              1,
              "#f0f921"
             ]
            ],
            "type": "histogram2dcontour"
           }
          ],
          "mesh3d": [
           {
            "colorbar": {
             "outlinewidth": 0,
             "ticks": ""
            },
            "type": "mesh3d"
           }
          ],
          "parcoords": [
           {
            "line": {
             "colorbar": {
              "outlinewidth": 0,
              "ticks": ""
             }
            },
            "type": "parcoords"
           }
          ],
          "pie": [
           {
            "automargin": true,
            "type": "pie"
           }
          ],
          "scatter": [
           {
            "fillpattern": {
             "fillmode": "overlay",
             "size": 10,
             "solidity": 0.2
            },
            "type": "scatter"
           }
          ],
          "scatter3d": [
           {
            "line": {
             "colorbar": {
              "outlinewidth": 0,
              "ticks": ""
             }
            },
            "marker": {
             "colorbar": {
              "outlinewidth": 0,
              "ticks": ""
             }
            },
            "type": "scatter3d"
           }
          ],
          "scattercarpet": [
           {
            "marker": {
             "colorbar": {
              "outlinewidth": 0,
              "ticks": ""
             }
            },
            "type": "scattercarpet"
           }
          ],
          "scattergeo": [
           {
            "marker": {
             "colorbar": {
              "outlinewidth": 0,
              "ticks": ""
             }
            },
            "type": "scattergeo"
           }
          ],
          "scattergl": [
           {
            "marker": {
             "colorbar": {
              "outlinewidth": 0,
              "ticks": ""
             }
            },
            "type": "scattergl"
           }
          ],
          "scattermap": [
           {
            "marker": {
             "colorbar": {
              "outlinewidth": 0,
              "ticks": ""
             }
            },
            "type": "scattermap"
           }
          ],
          "scattermapbox": [
           {
            "marker": {
             "colorbar": {
              "outlinewidth": 0,
              "ticks": ""
             }
            },
            "type": "scattermapbox"
           }
          ],
          "scatterpolar": [
           {
            "marker": {
             "colorbar": {
              "outlinewidth": 0,
              "ticks": ""
             }
            },
            "type": "scatterpolar"
           }
          ],
          "scatterpolargl": [
           {
            "marker": {
             "colorbar": {
              "outlinewidth": 0,
              "ticks": ""
             }
            },
            "type": "scatterpolargl"
           }
          ],
          "scatterternary": [
           {
            "marker": {
             "colorbar": {
              "outlinewidth": 0,
              "ticks": ""
             }
            },
            "type": "scatterternary"
           }
          ],
          "surface": [
           {
            "colorbar": {
             "outlinewidth": 0,
             "ticks": ""
            },
            "colorscale": [
             [
              0,
              "#0d0887"
             ],
             [
              0.1111111111111111,
              "#46039f"
             ],
             [
              0.2222222222222222,
              "#7201a8"
             ],
             [
              0.3333333333333333,
              "#9c179e"
             ],
             [
              0.4444444444444444,
              "#bd3786"
             ],
             [
              0.5555555555555556,
              "#d8576b"
             ],
             [
              0.6666666666666666,
              "#ed7953"
             ],
             [
              0.7777777777777778,
              "#fb9f3a"
             ],
             [
              0.8888888888888888,
              "#fdca26"
             ],
             [
              1,
              "#f0f921"
             ]
            ],
            "type": "surface"
           }
          ],
          "table": [
           {
            "cells": {
             "fill": {
              "color": "#EBF0F8"
             },
             "line": {
              "color": "white"
             }
            },
            "header": {
             "fill": {
              "color": "#C8D4E3"
             },
             "line": {
              "color": "white"
             }
            },
            "type": "table"
           }
          ]
         },
         "layout": {
          "annotationdefaults": {
           "arrowcolor": "#2a3f5f",
           "arrowhead": 0,
           "arrowwidth": 1
          },
          "autotypenumbers": "strict",
          "coloraxis": {
           "colorbar": {
            "outlinewidth": 0,
            "ticks": ""
           }
          },
          "colorscale": {
           "diverging": [
            [
             0,
             "#8e0152"
            ],
            [
             0.1,
             "#c51b7d"
            ],
            [
             0.2,
             "#de77ae"
            ],
            [
             0.3,
             "#f1b6da"
            ],
            [
             0.4,
             "#fde0ef"
            ],
            [
             0.5,
             "#f7f7f7"
            ],
            [
             0.6,
             "#e6f5d0"
            ],
            [
             0.7,
             "#b8e186"
            ],
            [
             0.8,
             "#7fbc41"
            ],
            [
             0.9,
             "#4d9221"
            ],
            [
             1,
             "#276419"
            ]
           ],
           "sequential": [
            [
             0,
             "#0d0887"
            ],
            [
             0.1111111111111111,
             "#46039f"
            ],
            [
             0.2222222222222222,
             "#7201a8"
            ],
            [
             0.3333333333333333,
             "#9c179e"
            ],
            [
             0.4444444444444444,
             "#bd3786"
            ],
            [
             0.5555555555555556,
             "#d8576b"
            ],
            [
             0.6666666666666666,
             "#ed7953"
            ],
            [
             0.7777777777777778,
             "#fb9f3a"
            ],
            [
             0.8888888888888888,
             "#fdca26"
            ],
            [
             1,
             "#f0f921"
            ]
           ],
           "sequentialminus": [
            [
             0,
             "#0d0887"
            ],
            [
             0.1111111111111111,
             "#46039f"
            ],
            [
             0.2222222222222222,
             "#7201a8"
            ],
            [
             0.3333333333333333,
             "#9c179e"
            ],
            [
             0.4444444444444444,
             "#bd3786"
            ],
            [
             0.5555555555555556,
             "#d8576b"
            ],
            [
             0.6666666666666666,
             "#ed7953"
            ],
            [
             0.7777777777777778,
             "#fb9f3a"
            ],
            [
             0.8888888888888888,
             "#fdca26"
            ],
            [
             1,
             "#f0f921"
            ]
           ]
          },
          "colorway": [
           "#636efa",
           "#EF553B",
           "#00cc96",
           "#ab63fa",
           "#FFA15A",
           "#19d3f3",
           "#FF6692",
           "#B6E880",
           "#FF97FF",
           "#FECB52"
          ],
          "font": {
           "color": "#2a3f5f"
          },
          "geo": {
           "bgcolor": "white",
           "lakecolor": "white",
           "landcolor": "white",
           "showlakes": true,
           "showland": true,
           "subunitcolor": "#C8D4E3"
          },
          "hoverlabel": {
           "align": "left"
          },
          "hovermode": "closest",
          "mapbox": {
           "style": "light"
          },
          "paper_bgcolor": "white",
          "plot_bgcolor": "white",
          "polar": {
           "angularaxis": {
            "gridcolor": "#EBF0F8",
            "linecolor": "#EBF0F8",
            "ticks": ""
           },
           "bgcolor": "white",
           "radialaxis": {
            "gridcolor": "#EBF0F8",
            "linecolor": "#EBF0F8",
            "ticks": ""
           }
          },
          "scene": {
           "xaxis": {
            "backgroundcolor": "white",
            "gridcolor": "#DFE8F3",
            "gridwidth": 2,
            "linecolor": "#EBF0F8",
            "showbackground": true,
            "ticks": "",
            "zerolinecolor": "#EBF0F8"
           },
           "yaxis": {
            "backgroundcolor": "white",
            "gridcolor": "#DFE8F3",
            "gridwidth": 2,
            "linecolor": "#EBF0F8",
            "showbackground": true,
            "ticks": "",
            "zerolinecolor": "#EBF0F8"
           },
           "zaxis": {
            "backgroundcolor": "white",
            "gridcolor": "#DFE8F3",
            "gridwidth": 2,
            "linecolor": "#EBF0F8",
            "showbackground": true,
            "ticks": "",
            "zerolinecolor": "#EBF0F8"
           }
          },
          "shapedefaults": {
           "line": {
            "color": "#2a3f5f"
           }
          },
          "ternary": {
           "aaxis": {
            "gridcolor": "#DFE8F3",
            "linecolor": "#A2B1C6",
            "ticks": ""
           },
           "baxis": {
            "gridcolor": "#DFE8F3",
            "linecolor": "#A2B1C6",
            "ticks": ""
           },
           "bgcolor": "white",
           "caxis": {
            "gridcolor": "#DFE8F3",
            "linecolor": "#A2B1C6",
            "ticks": ""
           }
          },
          "title": {
           "x": 0.05
          },
          "xaxis": {
           "automargin": true,
           "gridcolor": "#EBF0F8",
           "linecolor": "#EBF0F8",
           "ticks": "",
           "title": {
            "standoff": 15
           },
           "zerolinecolor": "#EBF0F8",
           "zerolinewidth": 2
          },
          "yaxis": {
           "automargin": true,
           "gridcolor": "#EBF0F8",
           "linecolor": "#EBF0F8",
           "ticks": "",
           "title": {
            "standoff": 15
           },
           "zerolinecolor": "#EBF0F8",
           "zerolinewidth": 2
          }
         }
        },
        "title": {
         "text": "Normalized Comparison: Web Traffic vs Social Media Activity"
        },
        "xaxis": {
         "title": {
          "text": "Date"
         }
        },
        "yaxis": {
         "title": {
          "text": "Normalized Value"
         }
        }
       }
      }
     },
     "metadata": {},
     "output_type": "display_data"
    }
   ],
   "source": [
    "# Check if correlation data is loaded\n",
    "if correlation_df is not None:\n",
    "    # 1. Create correlation matrix\n",
    "    plt.figure(figsize=(12, 10))\n",
    "    \n",
    "    # Calculate correlation matrix (excluding date column)\n",
    "    corr_matrix = correlation_df.drop('date', axis=1).corr()\n",
    "    \n",
    "    # Create heatmap\n",
    "    mask = np.triu(np.ones_like(corr_matrix, dtype=bool))\n",
    "    sns.heatmap(corr_matrix, mask=mask, annot=True, cmap='coolwarm', vmin=-1, vmax=1, fmt='.2f')\n",
    "    plt.title('Correlation Matrix: Web Traffic vs Social Engagement', fontsize=16)\n",
    "    plt.tight_layout()\n",
    "    plt.savefig('../visualization/correlation_matrix.png', dpi=300)\n",
    "    plt.show()\n",
    "    \n",
    "    # 2. Create scatter plots for the most correlated variables\n",
    "    plt.figure(figsize=(16, 12))\n",
    "    \n",
    "    # Get top 4 correlations with web traffic (excluding self-correlations)\n",
    "    web_correlations = corr_matrix['total_requests'].drop('total_requests').abs().sort_values(ascending=False).head(4)\n",
    "    \n",
    "    # Create subplots for top correlations\n",
    "    fig, axes = plt.subplots(2, 2, figsize=(16, 12))\n",
    "    axes = axes.flatten()\n",
    "    \n",
    "    for i, (var, corr) in enumerate(web_correlations.items()):\n",
    "        axes[i].scatter(correlation_df['total_requests'], correlation_df[var], alpha=0.7)\n",
    "        axes[i].set_title(f'Web Traffic vs {var.replace(\"_\", \" \").title()} (r = {corr_matrix[\"total_requests\"][var]:.2f})', fontsize=14)\n",
    "        axes[i].set_xlabel('Total Web Requests', fontsize=12)\n",
    "        axes[i].set_ylabel(var.replace('_', ' ').title(), fontsize=12)\n",
    "        axes[i].grid(True, linestyle='--', alpha=0.7)\n",
    "        \n",
    "        # Add trend line\n",
    "        z = np.polyfit(correlation_df['total_requests'], correlation_df[var], 1)\n",
    "        p = np.poly1d(z)\n",
    "        axes[i].plot(correlation_df['total_requests'], p(correlation_df['total_requests']), 'r--', alpha=0.7)\n",
    "    \n",
    "    plt.tight_layout()\n",
    "    plt.savefig('../visualization/web_traffic_correlations.png', dpi=300)\n",
    "    plt.show()\n",
    "    \n",
    "    # 3. Create interactive time series comparison\n",
    "    # Normalize the variables for comparison\n",
    "    norm_df = correlation_df.copy()\n",
    "    for col in ['total_requests', 'post_count', 'avg_engagement', 'avg_sentiment']:\n",
    "        norm_df[f'{col}_norm'] = (norm_df[col] - norm_df[col].min()) / (norm_df[col].max() - norm_df[col].min())\n",
    "    \n",
    "    # Create interactive line chart with Plotly\n",
    "    fig = go.Figure()\n",
    "    \n",
    "    fig.add_trace(go.Scatter(\n",
    "        x=norm_df['date'],\n",
    "        y=norm_df['total_requests_norm'],\n",
    "        name='Web Traffic (normalized)',\n",
    "        line=dict(color='blue')\n",
    "    ))\n",
    "    \n",
    "    fig.add_trace(go.Scatter(\n",
    "        x=norm_df['date'],\n",
    "        y=norm_df['post_count_norm'],\n",
    "        name='Social Post Count (normalized)',\n",
    "        line=dict(color='orange')\n",
    "    ))\n",
    "    \n",
    "    fig.add_trace(go.Scatter(\n",
    "        x=norm_df['date'],\n",
    "        y=norm_df['avg_engagement_norm'],\n",
    "        name='Avg Engagement (normalized)',\n",
    "        line=dict(color='green')\n",
    "    ))\n",
    "    \n",
    "    fig.update_layout(\n",
    "        title='Normalized Comparison: Web Traffic vs Social Media Activity',\n",
    "        xaxis_title='Date',\n",
    "        yaxis_title='Normalized Value',\n",
    "        template='plotly_white'\n",
    "    )\n",
    "    \n",
    "    fig.show()\n",
    "    fig.write_html('../visualization/traffic_social_comparison.html')\n",
    "    \n",
    "else:\n",
    "    print(\"Correlation data not available for visualization\")"
   ]
  }
 ],
 "metadata": {
  "kernelspec": {
   "display_name": ".venv",
   "language": "python",
   "name": "python3"
  },
  "language_info": {
   "codemirror_mode": {
    "name": "ipython",
    "version": 3
   },
   "file_extension": ".py",
   "mimetype": "text/x-python",
   "name": "python",
   "nbconvert_exporter": "python",
   "pygments_lexer": "ipython3",
   "version": "3.13.2"
  }
 },
 "nbformat": 4,
 "nbformat_minor": 2
}
